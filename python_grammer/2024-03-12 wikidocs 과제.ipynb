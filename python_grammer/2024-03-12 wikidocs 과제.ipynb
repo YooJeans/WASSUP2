{
 "cells": [
  {
   "cell_type": "markdown",
   "id": "6b29ad4a",
   "metadata": {},
   "source": [
    "## 파일 입출력과 예외처리 291 ~ 300"
   ]
  },
  {
   "cell_type": "markdown",
   "id": "fee75d24",
   "metadata": {},
   "source": [
    "### 파일 쓰기"
   ]
  },
  {
   "cell_type": "code",
   "execution_count": 5,
   "id": "a0547621",
   "metadata": {},
   "outputs": [],
   "source": [
    "# 291\n",
    "f = open(\"C:/Users/com/Desktop/매수종목1.txt\", mode=\"w\")\n",
    "f.write(\"005930\\n\")\n",
    "f.write(\"005380\\n\")\n",
    "f.write(\"035420\")\n",
    "f.close()"
   ]
  },
  {
   "cell_type": "code",
   "execution_count": 6,
   "id": "28d431bd",
   "metadata": {},
   "outputs": [],
   "source": [
    "# 292\n",
    "f = open(\"C:/Users/com/Desktop/매수종목2.txt\", mode=\"w\")\n",
    "f.write(\"005930 삼성전자\\n\")\n",
    "f.write(\"005380 현대차\\n\")\n",
    "f.write(\"035420 NAVER\\n\")\n",
    "f.close()"
   ]
  },
  {
   "cell_type": "markdown",
   "id": "e8ce3637",
   "metadata": {},
   "source": [
    "### csv 파일 쓰기"
   ]
  },
  {
   "cell_type": "code",
   "execution_count": 8,
   "id": "7c75b057",
   "metadata": {},
   "outputs": [],
   "source": [
    "# 293\n",
    "import csv\n",
    "\n",
    "f = open(\"C:/Users/com/Desktop/매수종목.csv\", mode=\"w\", encoding=\"cp949\")\n",
    "writer = csv.writer(f)\n",
    "writer.writerow([\"종목명\", \"종목코드\", \"PER\"])\n",
    "writer.writerow([\"삼성전자\", \"005930\", 15.59])\n",
    "writer.writerow([\"NAVER\", \"035420\", 55.82])\n",
    "f.close()"
   ]
  },
  {
   "cell_type": "markdown",
   "id": "b0004803",
   "metadata": {},
   "source": [
    "### 파일 읽기"
   ]
  },
  {
   "cell_type": "code",
   "execution_count": 9,
   "id": "2f36101d",
   "metadata": {},
   "outputs": [
    {
     "name": "stdout",
     "output_type": "stream",
     "text": [
      "['005930', '005380', '035420']\n"
     ]
    }
   ],
   "source": [
    "# 294\n",
    "f = open(\"C:/Users/com/Desktop/매수종목1.txt\")\n",
    "lines = f.readlines()\n",
    "\n",
    "codes = []\n",
    "for line in lines:\n",
    "    code = line.strip()\n",
    "    codes.append(code)\n",
    "\n",
    "print(codes)\n",
    "f.close()"
   ]
  },
  {
   "cell_type": "code",
   "execution_count": 10,
   "id": "69e4aa33",
   "metadata": {},
   "outputs": [
    {
     "name": "stdout",
     "output_type": "stream",
     "text": [
      "{'005930': '삼성전자', '005380': '현대차', '035420': 'NAVER'}\n"
     ]
    }
   ],
   "source": [
    "# 295\n",
    "f = open(\"C:/Users/com/Desktop/매수종목2.txt\")\n",
    "lines = f.readlines()\n",
    "\n",
    "data = {}\n",
    "for line in lines:\n",
    "    line = line.strip()\n",
    "    k, v = line.split()\n",
    "    data[k] = v\n",
    "\n",
    "print(data)\n",
    "f.close()"
   ]
  },
  {
   "cell_type": "markdown",
   "id": "e985924d",
   "metadata": {},
   "source": [
    "### 예외처리"
   ]
  },
  {
   "cell_type": "code",
   "execution_count": 11,
   "id": "ccdd6dbb",
   "metadata": {},
   "outputs": [
    {
     "name": "stdout",
     "output_type": "stream",
     "text": [
      "10.31\n",
      "0\n",
      "8.0\n"
     ]
    }
   ],
   "source": [
    "# 296\n",
    "per = [\"10.31\", \"\", \"8.00\"]\n",
    "\n",
    "for i in per:\n",
    "    try:\n",
    "        print(float(i))\n",
    "    except:\n",
    "        print(0)"
   ]
  },
  {
   "cell_type": "markdown",
   "id": "916e8488",
   "metadata": {},
   "source": [
    "### 예외처리 및 리스트에 저장"
   ]
  },
  {
   "cell_type": "code",
   "execution_count": 12,
   "id": "21f06cd0",
   "metadata": {},
   "outputs": [
    {
     "name": "stdout",
     "output_type": "stream",
     "text": [
      "[10.31, 0, 8.0]\n"
     ]
    }
   ],
   "source": [
    "# 297\n",
    "per = [\"10.31\", \"\", \"8.00\"]\n",
    "new_per = []\n",
    "\n",
    "for i in per:\n",
    "    try:\n",
    "        v = float(i)\n",
    "    except:\n",
    "        v = 0\n",
    "    new_per.append(v)\n",
    "\n",
    "print(new_per)"
   ]
  },
  {
   "cell_type": "markdown",
   "id": "8b672662",
   "metadata": {},
   "source": [
    "### 특정 예외만 처리하기"
   ]
  },
  {
   "cell_type": "code",
   "execution_count": 13,
   "id": "bc421e2f",
   "metadata": {},
   "outputs": [
    {
     "name": "stdout",
     "output_type": "stream",
     "text": [
      "ZeroDivisionError\n"
     ]
    }
   ],
   "source": [
    "# 298\n",
    "try:\n",
    "    b = 3 / 0\n",
    "except ZeroDivisionError:\n",
    "    print(\"ZeroDivisionError\")"
   ]
  },
  {
   "cell_type": "markdown",
   "id": "37f42e2c",
   "metadata": {},
   "source": [
    "### 예외의 메시지 출력하기"
   ]
  },
  {
   "cell_type": "code",
   "execution_count": 14,
   "id": "c66620f7",
   "metadata": {},
   "outputs": [
    {
     "name": "stdout",
     "output_type": "stream",
     "text": [
      "1\n",
      "2\n",
      "3\n",
      "list index out of range\n",
      "list index out of range\n"
     ]
    }
   ],
   "source": [
    "# 299\n",
    "data = [1, 2, 3]\n",
    "\n",
    "for i in range(5):\n",
    "    try:\n",
    "        print(data[i])\n",
    "    except IndexError as e:\n",
    "        print(e)"
   ]
  },
  {
   "cell_type": "markdown",
   "id": "9976538e",
   "metadata": {},
   "source": [
    "### try, except, else, finally 구조 사용해보기"
   ]
  },
  {
   "cell_type": "code",
   "execution_count": 16,
   "id": "42e5b392",
   "metadata": {},
   "outputs": [
    {
     "name": "stdout",
     "output_type": "stream",
     "text": [
      "10.31\n",
      "good\n",
      "done\n",
      "0\n",
      "done\n",
      "8.0\n",
      "good\n",
      "done\n"
     ]
    }
   ],
   "source": [
    "# 300\n",
    "per = [\"10.31\", \"\", \"8.00\"]\n",
    "\n",
    "for i in per:\n",
    "    try:\n",
    "        print(float(i))\n",
    "    except:\n",
    "        print(0)\n",
    "    else:\n",
    "        print(\"good\")\n",
    "    finally:\n",
    "        print(\"done\")"
   ]
  }
 ],
 "metadata": {
  "kernelspec": {
   "display_name": "Python 3 (ipykernel)",
   "language": "python",
   "name": "python3"
  },
  "language_info": {
   "codemirror_mode": {
    "name": "ipython",
    "version": 3
   },
   "file_extension": ".py",
   "mimetype": "text/x-python",
   "name": "python",
   "nbconvert_exporter": "python",
   "pygments_lexer": "ipython3",
   "version": "3.11.5"
  }
 },
 "nbformat": 4,
 "nbformat_minor": 5
}
