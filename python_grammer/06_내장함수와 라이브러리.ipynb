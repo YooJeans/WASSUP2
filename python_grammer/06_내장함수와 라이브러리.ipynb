{
 "cells": [
  {
   "cell_type": "markdown",
   "id": "c4449504",
   "metadata": {},
   "source": [
    "## 내장함수"
   ]
  },
  {
   "cell_type": "markdown",
   "id": "2c356b05",
   "metadata": {},
   "source": [
    "### abs"
   ]
  },
  {
   "cell_type": "code",
   "execution_count": 2,
   "id": "876ac5d5",
   "metadata": {},
   "outputs": [
    {
     "data": {
      "text/plain": [
       "(3, 1.2)"
      ]
     },
     "execution_count": 2,
     "metadata": {},
     "output_type": "execute_result"
    }
   ],
   "source": [
    "abs(-3), abs(-1.2)"
   ]
  },
  {
   "cell_type": "markdown",
   "id": "c2c0f1b4",
   "metadata": {},
   "source": [
    "### all"
   ]
  },
  {
   "cell_type": "code",
   "execution_count": 6,
   "id": "7df0ea6d",
   "metadata": {},
   "outputs": [
    {
     "data": {
      "text/plain": [
       "(True, False, True)"
      ]
     },
     "execution_count": 6,
     "metadata": {},
     "output_type": "execute_result"
    }
   ],
   "source": [
    "all([1, 2, 3]), all([0]), all([])"
   ]
  },
  {
   "cell_type": "markdown",
   "id": "cb638f31",
   "metadata": {},
   "source": [
    "### any"
   ]
  },
  {
   "cell_type": "code",
   "execution_count": 7,
   "id": "b1fca931",
   "metadata": {},
   "outputs": [
    {
     "data": {
      "text/plain": [
       "(True, False, False)"
      ]
     },
     "execution_count": 7,
     "metadata": {},
     "output_type": "execute_result"
    }
   ],
   "source": [
    "any([1, 2, 3, 0]), any([0, \"\"]), any([])"
   ]
  },
  {
   "cell_type": "markdown",
   "id": "5ae85e36",
   "metadata": {},
   "source": [
    "### chr"
   ]
  },
  {
   "cell_type": "code",
   "execution_count": 8,
   "id": "c111dd55",
   "metadata": {},
   "outputs": [
    {
     "data": {
      "text/plain": [
       "('a', '가')"
      ]
     },
     "execution_count": 8,
     "metadata": {},
     "output_type": "execute_result"
    }
   ],
   "source": [
    "chr(97), (chr(44032))"
   ]
  },
  {
   "cell_type": "markdown",
   "id": "f12444a4",
   "metadata": {},
   "source": [
    "### dir"
   ]
  },
  {
   "cell_type": "code",
   "execution_count": 9,
   "id": "4a8c09ac",
   "metadata": {},
   "outputs": [
    {
     "data": {
      "text/plain": [
       "['__add__',\n",
       " '__class__',\n",
       " '__class_getitem__',\n",
       " '__contains__',\n",
       " '__delattr__',\n",
       " '__delitem__',\n",
       " '__dir__',\n",
       " '__doc__',\n",
       " '__eq__',\n",
       " '__format__',\n",
       " '__ge__',\n",
       " '__getattribute__',\n",
       " '__getitem__',\n",
       " '__getstate__',\n",
       " '__gt__',\n",
       " '__hash__',\n",
       " '__iadd__',\n",
       " '__imul__',\n",
       " '__init__',\n",
       " '__init_subclass__',\n",
       " '__iter__',\n",
       " '__le__',\n",
       " '__len__',\n",
       " '__lt__',\n",
       " '__mul__',\n",
       " '__ne__',\n",
       " '__new__',\n",
       " '__reduce__',\n",
       " '__reduce_ex__',\n",
       " '__repr__',\n",
       " '__reversed__',\n",
       " '__rmul__',\n",
       " '__setattr__',\n",
       " '__setitem__',\n",
       " '__sizeof__',\n",
       " '__str__',\n",
       " '__subclasshook__',\n",
       " 'append',\n",
       " 'clear',\n",
       " 'copy',\n",
       " 'count',\n",
       " 'extend',\n",
       " 'index',\n",
       " 'insert',\n",
       " 'pop',\n",
       " 'remove',\n",
       " 'reverse',\n",
       " 'sort']"
      ]
     },
     "execution_count": 9,
     "metadata": {},
     "output_type": "execute_result"
    }
   ],
   "source": [
    "dir([1, 2, 3])"
   ]
  },
  {
   "cell_type": "markdown",
   "id": "aa1cd9d2",
   "metadata": {},
   "source": [
    "### divmod"
   ]
  },
  {
   "cell_type": "code",
   "execution_count": 11,
   "id": "d8623b3b",
   "metadata": {},
   "outputs": [
    {
     "data": {
      "text/plain": [
       "(2, 1)"
      ]
     },
     "execution_count": 11,
     "metadata": {},
     "output_type": "execute_result"
    }
   ],
   "source": [
    "divmod(7, 3)"
   ]
  },
  {
   "cell_type": "markdown",
   "id": "bea47b35",
   "metadata": {},
   "source": [
    "### enumerate"
   ]
  },
  {
   "cell_type": "code",
   "execution_count": 12,
   "id": "4b09cdc8",
   "metadata": {},
   "outputs": [
    {
     "name": "stdout",
     "output_type": "stream",
     "text": [
      "0 body\n",
      "1 foo\n",
      "2 bar\n"
     ]
    }
   ],
   "source": [
    "for i, name in enumerate(['body', 'foo', 'bar']):\n",
    "    print(i, name)"
   ]
  },
  {
   "cell_type": "markdown",
   "id": "41ec7bb0",
   "metadata": {},
   "source": [
    "### filter"
   ]
  },
  {
   "cell_type": "code",
   "execution_count": 14,
   "id": "3fb9b8b0",
   "metadata": {},
   "outputs": [
    {
     "name": "stdout",
     "output_type": "stream",
     "text": [
      "[1, 2, 6]\n"
     ]
    }
   ],
   "source": [
    "def positive(l):\n",
    "    result = []\n",
    "    for i in l:\n",
    "        if i > 0:\n",
    "            result.append(i)\n",
    "    return result\n",
    "\n",
    "print(positive([1, -3, 2, 0, -5, 6]))"
   ]
  },
  {
   "cell_type": "code",
   "execution_count": 15,
   "id": "d4956a29",
   "metadata": {},
   "outputs": [
    {
     "name": "stdout",
     "output_type": "stream",
     "text": [
      "[1, 2, 6]\n"
     ]
    }
   ],
   "source": [
    "def positive(x):\n",
    "    return x > 0\n",
    "\n",
    "print(list(filter(positive, [1, -3, 2, 0, -5, 6])))"
   ]
  },
  {
   "cell_type": "code",
   "execution_count": 16,
   "id": "98e79c6b",
   "metadata": {},
   "outputs": [
    {
     "data": {
      "text/plain": [
       "[1, 2, 6]"
      ]
     },
     "execution_count": 16,
     "metadata": {},
     "output_type": "execute_result"
    }
   ],
   "source": [
    "list(filter(lambda x: x > 0, [1, -3, 2, 0, -5, 6]))"
   ]
  },
  {
   "cell_type": "markdown",
   "id": "115e279e",
   "metadata": {},
   "source": [
    "### int"
   ]
  },
  {
   "cell_type": "code",
   "execution_count": 17,
   "id": "2c53ddc0",
   "metadata": {},
   "outputs": [
    {
     "data": {
      "text/plain": [
       "(3, 3)"
      ]
     },
     "execution_count": 17,
     "metadata": {},
     "output_type": "execute_result"
    }
   ],
   "source": [
    "int('3'), int(3.4)"
   ]
  },
  {
   "cell_type": "markdown",
   "id": "425ed447",
   "metadata": {},
   "source": [
    "### isinstance"
   ]
  },
  {
   "cell_type": "code",
   "execution_count": 18,
   "id": "04d4e822",
   "metadata": {},
   "outputs": [
    {
     "data": {
      "text/plain": [
       "True"
      ]
     },
     "execution_count": 18,
     "metadata": {},
     "output_type": "execute_result"
    }
   ],
   "source": [
    "class Person: pass\n",
    "a = Person()\n",
    "isinstance(a, Person)"
   ]
  },
  {
   "cell_type": "code",
   "execution_count": 19,
   "id": "9a3afaec",
   "metadata": {},
   "outputs": [
    {
     "data": {
      "text/plain": [
       "False"
      ]
     },
     "execution_count": 19,
     "metadata": {},
     "output_type": "execute_result"
    }
   ],
   "source": [
    "b = 3\n",
    "isinstance(b, Person)"
   ]
  },
  {
   "cell_type": "markdown",
   "id": "f8b99dc3",
   "metadata": {},
   "source": [
    "### map"
   ]
  },
  {
   "cell_type": "code",
   "execution_count": 20,
   "id": "494f5c4b",
   "metadata": {},
   "outputs": [
    {
     "name": "stdout",
     "output_type": "stream",
     "text": [
      "[2, 4, 6, 8]\n"
     ]
    }
   ],
   "source": [
    "def two_times(numberList):\n",
    "    result = []\n",
    "    for number in numberList:\n",
    "        result.append(number * 2)\n",
    "    return result\n",
    "\n",
    "result = two_times([1, 2, 3, 4])\n",
    "print(result)"
   ]
  },
  {
   "cell_type": "code",
   "execution_count": 21,
   "id": "7aea01c0",
   "metadata": {},
   "outputs": [
    {
     "data": {
      "text/plain": [
       "[2, 4, 6, 8]"
      ]
     },
     "execution_count": 21,
     "metadata": {},
     "output_type": "execute_result"
    }
   ],
   "source": [
    "def two_times(x):\n",
    "    return x * 2\n",
    "\n",
    "list(map(two_times, [1, 2, 3, 4]))"
   ]
  },
  {
   "cell_type": "code",
   "execution_count": 22,
   "id": "28cb0609",
   "metadata": {},
   "outputs": [
    {
     "data": {
      "text/plain": [
       "[2, 4, 6, 8]"
      ]
     },
     "execution_count": 22,
     "metadata": {},
     "output_type": "execute_result"
    }
   ],
   "source": [
    "list(map(lambda a: a * 2, [1, 2, 3, 4]))"
   ]
  },
  {
   "cell_type": "markdown",
   "id": "8ede8f46",
   "metadata": {},
   "source": [
    "### max"
   ]
  },
  {
   "cell_type": "code",
   "execution_count": 23,
   "id": "45dd985a",
   "metadata": {},
   "outputs": [
    {
     "data": {
      "text/plain": [
       "(3, 'y')"
      ]
     },
     "execution_count": 23,
     "metadata": {},
     "output_type": "execute_result"
    }
   ],
   "source": [
    "max([1, 2, 3]), max(\"python\")"
   ]
  },
  {
   "cell_type": "markdown",
   "id": "bb02f10a",
   "metadata": {},
   "source": [
    "### min"
   ]
  },
  {
   "cell_type": "code",
   "execution_count": 24,
   "id": "67f6e5d9",
   "metadata": {},
   "outputs": [
    {
     "data": {
      "text/plain": [
       "(1, 'h')"
      ]
     },
     "execution_count": 24,
     "metadata": {},
     "output_type": "execute_result"
    }
   ],
   "source": [
    "min([1, 2, 3]), min(\"python\")"
   ]
  },
  {
   "cell_type": "markdown",
   "id": "5ff8d785",
   "metadata": {},
   "source": [
    "### pow"
   ]
  },
  {
   "cell_type": "code",
   "execution_count": 25,
   "id": "49b00615",
   "metadata": {},
   "outputs": [
    {
     "data": {
      "text/plain": [
       "(16, 27)"
      ]
     },
     "execution_count": 25,
     "metadata": {},
     "output_type": "execute_result"
    }
   ],
   "source": [
    "pow(2, 4), pow(3, 3)"
   ]
  },
  {
   "cell_type": "markdown",
   "id": "6a57617a",
   "metadata": {},
   "source": [
    "### range"
   ]
  },
  {
   "cell_type": "code",
   "execution_count": 26,
   "id": "0c7d6c24",
   "metadata": {},
   "outputs": [
    {
     "data": {
      "text/plain": [
       "([0, 1, 2, 3, 4], [5, 6, 7, 8, 9], [1, 3, 5, 7, 9])"
      ]
     },
     "execution_count": 26,
     "metadata": {},
     "output_type": "execute_result"
    }
   ],
   "source": [
    "list(range(5)), list(range(5, 10)), list(range(1, 10, 2))"
   ]
  },
  {
   "cell_type": "markdown",
   "id": "814d15a1",
   "metadata": {},
   "source": [
    "### round"
   ]
  },
  {
   "cell_type": "code",
   "execution_count": 27,
   "id": "5e22da5e",
   "metadata": {},
   "outputs": [
    {
     "data": {
      "text/plain": [
       "(5, 4, 5.68)"
      ]
     },
     "execution_count": 27,
     "metadata": {},
     "output_type": "execute_result"
    }
   ],
   "source": [
    "round(4.6), round(4.2), round(5.678, 2)"
   ]
  },
  {
   "cell_type": "markdown",
   "id": "e4bfbd11",
   "metadata": {},
   "source": [
    "### sorted"
   ]
  },
  {
   "cell_type": "code",
   "execution_count": 33,
   "id": "cc3b9e06",
   "metadata": {},
   "outputs": [
    {
     "data": {
      "text/plain": [
       "([1, 2, 3], ['a', 'b', 'c'], ['e', 'o', 'r', 'z'], [1, 2, 3])"
      ]
     },
     "execution_count": 33,
     "metadata": {},
     "output_type": "execute_result"
    }
   ],
   "source": [
    "sorted([3, 1, 2]), sorted(['a', 'c', 'b']), sorted('zero'), sorted((3, 2, 1))"
   ]
  },
  {
   "cell_type": "markdown",
   "id": "90687b54",
   "metadata": {},
   "source": [
    "### sum"
   ]
  },
  {
   "cell_type": "code",
   "execution_count": 34,
   "id": "e6266744",
   "metadata": {},
   "outputs": [
    {
     "data": {
      "text/plain": [
       "(6, 15)"
      ]
     },
     "execution_count": 34,
     "metadata": {},
     "output_type": "execute_result"
    }
   ],
   "source": [
    "sum([1, 2, 3]), sum((4, 5, 6))"
   ]
  },
  {
   "cell_type": "markdown",
   "id": "db440a5b",
   "metadata": {},
   "source": [
    "### zip"
   ]
  },
  {
   "cell_type": "code",
   "execution_count": 35,
   "id": "a5b6b8f2",
   "metadata": {},
   "outputs": [
    {
     "data": {
      "text/plain": [
       "[(1, 4), (2, 5), (3, 6)]"
      ]
     },
     "execution_count": 35,
     "metadata": {},
     "output_type": "execute_result"
    }
   ],
   "source": [
    "list(zip([1, 2, 3], [4, 5, 6]))"
   ]
  },
  {
   "cell_type": "code",
   "execution_count": 36,
   "id": "a12ef193",
   "metadata": {},
   "outputs": [
    {
     "data": {
      "text/plain": [
       "[(1, 4, 7), (2, 5, 8), (3, 6, 9)]"
      ]
     },
     "execution_count": 36,
     "metadata": {},
     "output_type": "execute_result"
    }
   ],
   "source": [
    "list(zip([1, 2, 3], [4, 5, 6], [7, 8, 9]))"
   ]
  },
  {
   "cell_type": "code",
   "execution_count": 37,
   "id": "7b0b1ae4",
   "metadata": {},
   "outputs": [
    {
     "data": {
      "text/plain": [
       "[('a', 'd'), ('b', 'e'), ('c', 'f')]"
      ]
     },
     "execution_count": 37,
     "metadata": {},
     "output_type": "execute_result"
    }
   ],
   "source": [
    "list(zip(\"abc\", \"def\"))"
   ]
  },
  {
   "cell_type": "markdown",
   "id": "955f9275",
   "metadata": {},
   "source": [
    "## 라이브러리"
   ]
  },
  {
   "cell_type": "markdown",
   "id": "44d755f7",
   "metadata": {},
   "source": [
    "### datetime.date"
   ]
  },
  {
   "cell_type": "code",
   "execution_count": 38,
   "id": "c38d22a7",
   "metadata": {},
   "outputs": [
    {
     "data": {
      "text/plain": [
       "(datetime.date(2024, 3, 12), datetime.date(2024, 1, 22))"
      ]
     },
     "execution_count": 38,
     "metadata": {},
     "output_type": "execute_result"
    }
   ],
   "source": [
    "import datetime\n",
    "day1 = datetime.date(2024, 3, 12)\n",
    "day2 = datetime.date(2024, 1, 22)\n",
    "day1, day2"
   ]
  },
  {
   "cell_type": "code",
   "execution_count": 40,
   "id": "be09d3ea",
   "metadata": {},
   "outputs": [
    {
     "data": {
      "text/plain": [
       "datetime.timedelta(days=50)"
      ]
     },
     "execution_count": 40,
     "metadata": {},
     "output_type": "execute_result"
    }
   ],
   "source": [
    "diff = day1 - day2\n",
    "diff"
   ]
  },
  {
   "cell_type": "code",
   "execution_count": 41,
   "id": "ba00e387",
   "metadata": {},
   "outputs": [
    {
     "data": {
      "text/plain": [
       "50"
      ]
     },
     "execution_count": 41,
     "metadata": {},
     "output_type": "execute_result"
    }
   ],
   "source": [
    "diff.days"
   ]
  },
  {
   "cell_type": "code",
   "execution_count": 43,
   "id": "a7167cd7",
   "metadata": {},
   "outputs": [
    {
     "data": {
      "text/plain": [
       "(0, 1)"
      ]
     },
     "execution_count": 43,
     "metadata": {},
     "output_type": "execute_result"
    }
   ],
   "source": [
    "# 요일 구하기\n",
    "day = datetime.date(2024, 1, 22)\n",
    "day.weekday(), day.isoweekday()"
   ]
  },
  {
   "cell_type": "markdown",
   "id": "dcb86c0a",
   "metadata": {},
   "source": [
    "### time"
   ]
  },
  {
   "cell_type": "code",
   "execution_count": 44,
   "id": "72d81de3",
   "metadata": {},
   "outputs": [
    {
     "data": {
      "text/plain": [
       "1710209773.5424058"
      ]
     },
     "execution_count": 44,
     "metadata": {},
     "output_type": "execute_result"
    }
   ],
   "source": [
    "import time\n",
    "time.time()"
   ]
  },
  {
   "cell_type": "code",
   "execution_count": 46,
   "id": "f147bb75",
   "metadata": {},
   "outputs": [
    {
     "data": {
      "text/plain": [
       "time.struct_time(tm_year=2024, tm_mon=3, tm_mday=12, tm_hour=11, tm_min=18, tm_sec=3, tm_wday=1, tm_yday=72, tm_isdst=0)"
      ]
     },
     "execution_count": 46,
     "metadata": {},
     "output_type": "execute_result"
    }
   ],
   "source": [
    "time.localtime(time.time())"
   ]
  },
  {
   "cell_type": "code",
   "execution_count": 47,
   "id": "7ae78483",
   "metadata": {},
   "outputs": [
    {
     "data": {
      "text/plain": [
       "'Tue Mar 12 11:18:03 2024'"
      ]
     },
     "execution_count": 47,
     "metadata": {},
     "output_type": "execute_result"
    }
   ],
   "source": [
    "time.asctime(time.localtime(time.time()))"
   ]
  },
  {
   "cell_type": "code",
   "execution_count": 48,
   "id": "0df9e105",
   "metadata": {},
   "outputs": [
    {
     "data": {
      "text/plain": [
       "'Tue Mar 12 11:18:11 2024'"
      ]
     },
     "execution_count": 48,
     "metadata": {},
     "output_type": "execute_result"
    }
   ],
   "source": [
    "time.ctime()"
   ]
  },
  {
   "cell_type": "code",
   "execution_count": 53,
   "id": "9e464fb4",
   "metadata": {},
   "outputs": [
    {
     "data": {
      "text/plain": [
       "'03/12/24'"
      ]
     },
     "execution_count": 53,
     "metadata": {},
     "output_type": "execute_result"
    }
   ],
   "source": [
    "time.strftime(\"%x\", time.localtime(time.time()))"
   ]
  },
  {
   "cell_type": "code",
   "execution_count": 54,
   "id": "3202fb6c",
   "metadata": {},
   "outputs": [
    {
     "data": {
      "text/plain": [
       "'Tue Mar 12 11:21:03 2024'"
      ]
     },
     "execution_count": 54,
     "metadata": {},
     "output_type": "execute_result"
    }
   ],
   "source": [
    "time.strftime(\"%c\", time.localtime(time.time()))"
   ]
  },
  {
   "cell_type": "code",
   "execution_count": 55,
   "id": "df74bff0",
   "metadata": {},
   "outputs": [
    {
     "data": {
      "text/plain": [
       "'2024-03-12'"
      ]
     },
     "execution_count": 55,
     "metadata": {},
     "output_type": "execute_result"
    }
   ],
   "source": [
    "time.strftime(\"%Y-%m-%d\", time.localtime(time.time()))"
   ]
  },
  {
   "cell_type": "markdown",
   "id": "1107051d",
   "metadata": {},
   "source": [
    "### time.sleep"
   ]
  },
  {
   "cell_type": "code",
   "execution_count": 58,
   "id": "96280989",
   "metadata": {},
   "outputs": [
    {
     "name": "stdout",
     "output_type": "stream",
     "text": [
      "0\n",
      "1\n",
      "2\n",
      "3\n",
      "4\n",
      "5\n",
      "6\n",
      "7\n",
      "8\n",
      "9\n"
     ]
    }
   ],
   "source": [
    "for i in range(10):\n",
    "    print(i)\n",
    "    time.sleep(1)"
   ]
  },
  {
   "cell_type": "markdown",
   "id": "51b3286c",
   "metadata": {},
   "source": [
    "### random"
   ]
  },
  {
   "cell_type": "code",
   "execution_count": 59,
   "id": "b0c5a81c",
   "metadata": {},
   "outputs": [
    {
     "data": {
      "text/plain": [
       "0.28187257068163074"
      ]
     },
     "execution_count": 59,
     "metadata": {},
     "output_type": "execute_result"
    }
   ],
   "source": [
    "import random\n",
    "random.random()"
   ]
  },
  {
   "cell_type": "code",
   "execution_count": 60,
   "id": "638cc91c",
   "metadata": {},
   "outputs": [
    {
     "data": {
      "text/plain": [
       "6"
      ]
     },
     "execution_count": 60,
     "metadata": {},
     "output_type": "execute_result"
    }
   ],
   "source": [
    "random.randint(1, 10)"
   ]
  },
  {
   "cell_type": "code",
   "execution_count": 61,
   "id": "fe4a2048",
   "metadata": {},
   "outputs": [
    {
     "data": {
      "text/plain": [
       "19"
      ]
     },
     "execution_count": 61,
     "metadata": {},
     "output_type": "execute_result"
    }
   ],
   "source": [
    "random.randint(1, 55)"
   ]
  },
  {
   "cell_type": "code",
   "execution_count": 62,
   "id": "98a42e40",
   "metadata": {},
   "outputs": [
    {
     "data": {
      "text/plain": [
       "[4, 1, 2, 3, 5]"
      ]
     },
     "execution_count": 62,
     "metadata": {},
     "output_type": "execute_result"
    }
   ],
   "source": [
    "data = [1, 2, 3, 4, 5]\n",
    "random.sample(data, len(data))"
   ]
  },
  {
   "cell_type": "markdown",
   "id": "e393a668",
   "metadata": {},
   "source": [
    "### glob"
   ]
  },
  {
   "cell_type": "code",
   "execution_count": 63,
   "id": "aebec07b",
   "metadata": {},
   "outputs": [
    {
     "data": {
      "text/plain": [
       "'C:\\\\workspace\\\\WASSUP2\\\\python'"
      ]
     },
     "execution_count": 63,
     "metadata": {},
     "output_type": "execute_result"
    }
   ],
   "source": [
    "pwd"
   ]
  },
  {
   "cell_type": "code",
   "execution_count": 64,
   "id": "3ed07a3a",
   "metadata": {},
   "outputs": [
    {
     "data": {
      "text/plain": [
       "['C:\\\\workspace\\\\WASSUP2\\\\python\\\\00_Markdown.ipynb',\n",
       " 'C:\\\\workspace\\\\WASSUP2\\\\python\\\\01_자료형과 변수.ipynb',\n",
       " 'C:\\\\workspace\\\\WASSUP2\\\\python\\\\02_제어문.ipynb',\n",
       " 'C:\\\\workspace\\\\WASSUP2\\\\python\\\\03_코딩연습 전화번호 프로그램 실습.ipynb',\n",
       " 'C:\\\\workspace\\\\WASSUP2\\\\python\\\\04_함수와 입출력.ipynb',\n",
       " 'C:\\\\workspace\\\\WASSUP2\\\\python\\\\05_클래스와 예외처리.ipynb',\n",
       " 'C:\\\\workspace\\\\WASSUP2\\\\python\\\\06_내장함수와 라이브러리.ipynb',\n",
       " 'C:\\\\workspace\\\\WASSUP2\\\\python\\\\2024-02-28 wikidocs 과제.ipynb',\n",
       " 'C:\\\\workspace\\\\WASSUP2\\\\python\\\\2024-03-04 wikidocs 과제.ipynb',\n",
       " 'C:\\\\workspace\\\\WASSUP2\\\\python\\\\2024-03-04 자료형&변수 연습문제 과제.ipynb',\n",
       " 'C:\\\\workspace\\\\WASSUP2\\\\python\\\\2024-03-05 wikidocs 과제.ipynb',\n",
       " 'C:\\\\workspace\\\\WASSUP2\\\\python\\\\2024-03-05 제어문 연습문제 과제.ipynb',\n",
       " 'C:\\\\workspace\\\\WASSUP2\\\\python\\\\2024-03-06 wikidocs 과제 제어문 마무리.ipynb',\n",
       " 'C:\\\\workspace\\\\WASSUP2\\\\python\\\\2024-03-07 wikidocs 과제.ipynb',\n",
       " 'C:\\\\workspace\\\\WASSUP2\\\\python\\\\2024-03-07 함수와 입출력 연습문제 과제.ipynb',\n",
       " 'C:\\\\workspace\\\\WASSUP2\\\\python\\\\2024-03-11 wikidocs 과제.ipynb',\n",
       " 'C:\\\\workspace\\\\WASSUP2\\\\python\\\\2024-03-11 클래스&내장함수 연습문제 과제.ipynb',\n",
       " 'C:\\\\workspace\\\\WASSUP2\\\\python\\\\test.ipynb']"
      ]
     },
     "execution_count": 64,
     "metadata": {},
     "output_type": "execute_result"
    }
   ],
   "source": [
    "import glob\n",
    "glob.glob(\"C:\\workspace\\WASSUP2\\python\\*.ipynb\")"
   ]
  },
  {
   "cell_type": "code",
   "execution_count": 67,
   "id": "0d3510a5",
   "metadata": {},
   "outputs": [
    {
     "name": "stdout",
     "output_type": "stream",
     "text": [
      "00_Markdown\n",
      "01_자료형과 변수\n",
      "02_제어문\n",
      "03_코딩연습 전화번호 프로그램 실습\n",
      "04_함수와 입출력\n",
      "05_클래스와 예외처리\n",
      "06_내장함수와 라이브러리\n",
      "2024-02-28 wikidocs 과제\n",
      "2024-03-04 wikidocs 과제\n",
      "2024-03-04 자료형&변수 연습문제 과제\n",
      "2024-03-05 wikidocs 과제\n",
      "2024-03-05 제어문 연습문제 과제\n",
      "2024-03-06 wikidocs 과제 제어문 마무리\n",
      "2024-03-07 wikidocs 과제\n",
      "2024-03-07 함수와 입출력 연습문제 과제\n",
      "2024-03-11 wikidocs 과제\n",
      "2024-03-11 클래스&내장함수 연습문제 과제\n",
      "test\n"
     ]
    }
   ],
   "source": [
    "pyfiles = glob.glob(\"C:\\workspace\\WASSUP2\\python\\*.ipynb\")\n",
    "\n",
    "for file in pyfiles:\n",
    "    splitfile = file.split(\"\\\\\")[-1]\n",
    "    file_name = splitfile[:-6]\n",
    "    print(file_name)"
   ]
  },
  {
   "cell_type": "markdown",
   "id": "77c1dc82",
   "metadata": {},
   "source": [
    "### os"
   ]
  },
  {
   "cell_type": "code",
   "execution_count": 1,
   "id": "d5ac0904",
   "metadata": {},
   "outputs": [
    {
     "data": {
      "text/plain": [
       "environ{'ALLUSERSPROFILE': 'C:\\\\ProgramData',\n",
       "        'APPDATA': 'C:\\\\Users\\\\com\\\\AppData\\\\Roaming',\n",
       "        'CMAPDIR': 'C:\\\\Program Files (x86)\\\\ePapyrus\\\\Papyrus-PlugIn-web\\\\CMap',\n",
       "        'COMMONPROGRAMFILES': 'C:\\\\Program Files\\\\Common Files',\n",
       "        'COMMONPROGRAMFILES(X86)': 'C:\\\\Program Files (x86)\\\\Common Files',\n",
       "        'COMMONPROGRAMW6432': 'C:\\\\Program Files\\\\Common Files',\n",
       "        'COMPUTERNAME': 'YOOJIN',\n",
       "        'COMSPEC': 'C:\\\\WINDOWS\\\\system32\\\\cmd.exe',\n",
       "        'DRIVERDATA': 'C:\\\\Windows\\\\System32\\\\Drivers\\\\DriverData',\n",
       "        'FPS_BROWSER_APP_PROFILE_STRING': 'Internet Explorer',\n",
       "        'FPS_BROWSER_USER_PROFILE_STRING': 'Default',\n",
       "        'HOMEDRIVE': 'C:',\n",
       "        'HOMEPATH': '\\\\Users\\\\com',\n",
       "        'LOCALAPPDATA': 'C:\\\\Users\\\\com\\\\AppData\\\\Local',\n",
       "        'LOGONSERVER': '\\\\\\\\YOOJIN',\n",
       "        'NUMBER_OF_PROCESSORS': '6',\n",
       "        'ONEDRIVE': 'C:\\\\Users\\\\com\\\\OneDrive',\n",
       "        'ONEDRIVECONSUMER': 'C:\\\\Users\\\\com\\\\OneDrive',\n",
       "        'OS': 'Windows_NT',\n",
       "        'PATH': 'C:\\\\Users\\\\com\\\\anaconda3;C:\\\\Users\\\\com\\\\anaconda3\\\\Library\\\\mingw-w64\\\\bin;C:\\\\Users\\\\com\\\\anaconda3\\\\Library\\\\usr\\\\bin;C:\\\\Users\\\\com\\\\anaconda3\\\\Library\\\\bin;C:\\\\Users\\\\com\\\\anaconda3\\\\Scripts;C:\\\\WINDOWS\\\\System32;C:\\\\Program Files\\\\MySQL\\\\MySQL Server 8.0\\\\bin;C:\\\\Users\\\\com\\\\AppData\\\\Local\\\\Programs\\\\Python\\\\Python38\\\\Scripts\\\\;C:\\\\Users\\\\com\\\\AppData\\\\Local\\\\Programs\\\\Python\\\\Python38\\\\;C:\\\\Users\\\\com\\\\AppData\\\\Local\\\\Microsoft\\\\WindowsApps;C:\\\\Program Files\\\\JetBrains\\\\PyCharm Community Edition 2021.3.1\\\\bin;C:\\\\Program Files\\\\MySQL\\\\MySQL Server 8.0\\\\bin;C:\\\\Program Files\\\\NVIDIA Corporation\\\\NVIDIA NvDLISR;C:\\\\Program Files\\\\Microsoft SQL Server\\\\150\\\\Tools\\\\Binn\\\\;C:\\\\Program Files\\\\Microsoft SQL Server\\\\Client SDK\\\\ODBC\\\\170\\\\Tools\\\\Binn\\\\;C:\\\\Program Files (x86)\\\\ePapyrus\\\\Papyrus-PlugIn-web;C:\\\\Program Files (x86)\\\\ePapyrus\\\\Papyrus-PlugIn-web\\\\Addins;C:\\\\Program Files\\\\Git\\\\cmd;C:\\\\Program Files\\\\MySQL\\\\MySQL Server 8.0\\\\bin;C:\\\\Users\\\\com\\\\AppData\\\\Local\\\\Programs\\\\Python\\\\Python38\\\\Scripts\\\\;C:\\\\Users\\\\com\\\\AppData\\\\Local\\\\Programs\\\\Python\\\\Python38\\\\;C:\\\\Users\\\\com\\\\AppData\\\\Local\\\\Microsoft\\\\WindowsApps;C:\\\\Program Files\\\\JetBrains\\\\PyCharm Community Edition 2021.3.1\\\\bin;C:\\\\Program Files\\\\MySQL\\\\MySQL Server 8.0\\\\bin;C:\\\\Program Files\\\\NVIDIA Corporation\\\\NVIDIA NvDLISR;C:\\\\Program Files\\\\Microsoft SQL Server\\\\150\\\\Tools\\\\Binn\\\\;C:\\\\Program Files\\\\Microsoft SQL Server\\\\Client SDK\\\\ODBC\\\\170\\\\Tools\\\\Binn\\\\;C:\\\\Program Files (x86)\\\\ePapyrus\\\\Papyrus-PlugIn-web;C:\\\\Program Files (x86)\\\\ePapyrus\\\\Papyrus-PlugIn-web\\\\Addins;C:\\\\Program Files\\\\Git\\\\cmd;C:\\\\Program Files\\\\MySQL\\\\MySQL Server 8.0\\\\bin;C:\\\\Users\\\\com\\\\AppData\\\\Local\\\\Programs\\\\Python\\\\Python38\\\\Scripts\\\\;C:\\\\Users\\\\com\\\\AppData\\\\Local\\\\Programs\\\\Python\\\\Python38\\\\;C:\\\\Users\\\\com\\\\AppData\\\\Local\\\\Microsoft\\\\WindowsApps;C:\\\\Program Files\\\\JetBrains\\\\PyCharm Community Edition 2021.3.1\\\\bin;C:\\\\Program Files\\\\MySQL\\\\MySQL Server 8.0\\\\bin;C:\\\\Program Files\\\\NVIDIA Corporation\\\\NVIDIA NvDLISR;C:\\\\Program Files\\\\Microsoft SQL Server\\\\150\\\\Tools\\\\Binn\\\\;C:\\\\Program Files\\\\Microsoft SQL Server\\\\Client SDK\\\\ODBC\\\\170\\\\Tools\\\\Binn\\\\;C:\\\\Program Files (x86)\\\\ePapyrus\\\\Papyrus-PlugIn-web;C:\\\\Program Files (x86)\\\\ePapyrus\\\\Papyrus-PlugIn-web\\\\Addins;C:\\\\Program Files\\\\Git\\\\cmd;C:\\\\Users\\\\com\\\\anaconda3;C:\\\\Users\\\\com\\\\anaconda3\\\\Library\\\\mingw-w64\\\\bin;C:\\\\Users\\\\com\\\\anaconda3\\\\Library\\\\usr\\\\bin;C:\\\\Users\\\\com\\\\anaconda3\\\\Library\\\\bin;C:\\\\Users\\\\com\\\\anaconda3\\\\Scripts;C:\\\\Users\\\\com\\\\AppData\\\\Local\\\\Programs\\\\Python\\\\Python38\\\\Scripts\\\\;C:\\\\Users\\\\com\\\\AppData\\\\Local\\\\Programs\\\\Python\\\\Python38\\\\;C:\\\\Users\\\\com\\\\AppData\\\\Local\\\\Microsoft\\\\WindowsApps;C:\\\\Program Files\\\\JetBrains\\\\PyCharm Community Edition 2021.3.1\\\\bin;C:\\\\Program Files\\\\MySQL\\\\MySQL Server 8.0\\\\bin;C:\\\\Users\\\\com\\\\AppData\\\\Local\\\\afreeca;C:\\\\Users\\\\com\\\\AppData\\\\Local\\\\atom\\\\bin;C:\\\\Users\\\\com\\\\AppData\\\\Local\\\\Programs\\\\Microsoft VS Code\\\\bin;C:\\\\Users\\\\com\\\\.dotnet\\\\tools',\n",
       "        'PATHEXT': '.COM;.EXE;.BAT;.CMD;.VBS;.VBE;.JS;.JSE;.WSF;.WSH;.MSC',\n",
       "        'PROCESSOR_ARCHITECTURE': 'AMD64',\n",
       "        'PROCESSOR_IDENTIFIER': 'Intel64 Family 6 Model 158 Stepping 13, GenuineIntel',\n",
       "        'PROCESSOR_LEVEL': '6',\n",
       "        'PROCESSOR_REVISION': '9e0d',\n",
       "        'PROGRAMDATA': 'C:\\\\ProgramData',\n",
       "        'PROGRAMFILES': 'C:\\\\Program Files',\n",
       "        'PROGRAMFILES(X86)': 'C:\\\\Program Files (x86)',\n",
       "        'PROGRAMW6432': 'C:\\\\Program Files',\n",
       "        'PSMODULEPATH': 'C:\\\\Program Files\\\\WindowsPowerShell\\\\Modules;C:\\\\WINDOWS\\\\system32\\\\WindowsPowerShell\\\\v1.0\\\\Modules',\n",
       "        'PUBLIC': 'C:\\\\Users\\\\Public',\n",
       "        'PYCHARM COMMUNITY EDITION': 'C:\\\\Program Files\\\\JetBrains\\\\PyCharm Community Edition 2021.3.1\\\\bin;',\n",
       "        'SESSIONNAME': 'Console',\n",
       "        'SYSTEMDRIVE': 'C:',\n",
       "        'SYSTEMROOT': 'C:\\\\WINDOWS',\n",
       "        'TEMP': 'C:\\\\Users\\\\com\\\\AppData\\\\Local\\\\Temp',\n",
       "        'TMP': 'C:\\\\Users\\\\com\\\\AppData\\\\Local\\\\Temp',\n",
       "        'USERDOMAIN': 'YOOJIN',\n",
       "        'USERDOMAIN_ROAMINGPROFILE': 'YOOJIN',\n",
       "        'USERNAME': 'com',\n",
       "        'USERPROFILE': 'C:\\\\Users\\\\com',\n",
       "        'WINDIR': 'C:\\\\WINDOWS',\n",
       "        'CONDA_PREFIX': 'C:\\\\Users\\\\com\\\\anaconda3',\n",
       "        'PYDEVD_USE_FRAME_EVAL': 'NO',\n",
       "        'JPY_INTERRUPT_EVENT': '3592',\n",
       "        'IPY_INTERRUPT_EVENT': '3592',\n",
       "        'JPY_PARENT_PID': '3612',\n",
       "        'TERM': 'xterm-color',\n",
       "        'CLICOLOR': '1',\n",
       "        'FORCE_COLOR': '1',\n",
       "        'CLICOLOR_FORCE': '1',\n",
       "        'PAGER': 'cat',\n",
       "        'GIT_PAGER': 'cat',\n",
       "        'MPLBACKEND': 'module://matplotlib_inline.backend_inline'}"
      ]
     },
     "execution_count": 1,
     "metadata": {},
     "output_type": "execute_result"
    }
   ],
   "source": [
    "import os\n",
    "os.environ"
   ]
  },
  {
   "cell_type": "code",
   "execution_count": 2,
   "id": "113ec19f",
   "metadata": {},
   "outputs": [
    {
     "data": {
      "text/plain": [
       "'C:\\\\Users\\\\com\\\\anaconda3;C:\\\\Users\\\\com\\\\anaconda3\\\\Library\\\\mingw-w64\\\\bin;C:\\\\Users\\\\com\\\\anaconda3\\\\Library\\\\usr\\\\bin;C:\\\\Users\\\\com\\\\anaconda3\\\\Library\\\\bin;C:\\\\Users\\\\com\\\\anaconda3\\\\Scripts;C:\\\\WINDOWS\\\\System32;C:\\\\Program Files\\\\MySQL\\\\MySQL Server 8.0\\\\bin;C:\\\\Users\\\\com\\\\AppData\\\\Local\\\\Programs\\\\Python\\\\Python38\\\\Scripts\\\\;C:\\\\Users\\\\com\\\\AppData\\\\Local\\\\Programs\\\\Python\\\\Python38\\\\;C:\\\\Users\\\\com\\\\AppData\\\\Local\\\\Microsoft\\\\WindowsApps;C:\\\\Program Files\\\\JetBrains\\\\PyCharm Community Edition 2021.3.1\\\\bin;C:\\\\Program Files\\\\MySQL\\\\MySQL Server 8.0\\\\bin;C:\\\\Program Files\\\\NVIDIA Corporation\\\\NVIDIA NvDLISR;C:\\\\Program Files\\\\Microsoft SQL Server\\\\150\\\\Tools\\\\Binn\\\\;C:\\\\Program Files\\\\Microsoft SQL Server\\\\Client SDK\\\\ODBC\\\\170\\\\Tools\\\\Binn\\\\;C:\\\\Program Files (x86)\\\\ePapyrus\\\\Papyrus-PlugIn-web;C:\\\\Program Files (x86)\\\\ePapyrus\\\\Papyrus-PlugIn-web\\\\Addins;C:\\\\Program Files\\\\Git\\\\cmd;C:\\\\Program Files\\\\MySQL\\\\MySQL Server 8.0\\\\bin;C:\\\\Users\\\\com\\\\AppData\\\\Local\\\\Programs\\\\Python\\\\Python38\\\\Scripts\\\\;C:\\\\Users\\\\com\\\\AppData\\\\Local\\\\Programs\\\\Python\\\\Python38\\\\;C:\\\\Users\\\\com\\\\AppData\\\\Local\\\\Microsoft\\\\WindowsApps;C:\\\\Program Files\\\\JetBrains\\\\PyCharm Community Edition 2021.3.1\\\\bin;C:\\\\Program Files\\\\MySQL\\\\MySQL Server 8.0\\\\bin;C:\\\\Program Files\\\\NVIDIA Corporation\\\\NVIDIA NvDLISR;C:\\\\Program Files\\\\Microsoft SQL Server\\\\150\\\\Tools\\\\Binn\\\\;C:\\\\Program Files\\\\Microsoft SQL Server\\\\Client SDK\\\\ODBC\\\\170\\\\Tools\\\\Binn\\\\;C:\\\\Program Files (x86)\\\\ePapyrus\\\\Papyrus-PlugIn-web;C:\\\\Program Files (x86)\\\\ePapyrus\\\\Papyrus-PlugIn-web\\\\Addins;C:\\\\Program Files\\\\Git\\\\cmd;C:\\\\Program Files\\\\MySQL\\\\MySQL Server 8.0\\\\bin;C:\\\\Users\\\\com\\\\AppData\\\\Local\\\\Programs\\\\Python\\\\Python38\\\\Scripts\\\\;C:\\\\Users\\\\com\\\\AppData\\\\Local\\\\Programs\\\\Python\\\\Python38\\\\;C:\\\\Users\\\\com\\\\AppData\\\\Local\\\\Microsoft\\\\WindowsApps;C:\\\\Program Files\\\\JetBrains\\\\PyCharm Community Edition 2021.3.1\\\\bin;C:\\\\Program Files\\\\MySQL\\\\MySQL Server 8.0\\\\bin;C:\\\\Program Files\\\\NVIDIA Corporation\\\\NVIDIA NvDLISR;C:\\\\Program Files\\\\Microsoft SQL Server\\\\150\\\\Tools\\\\Binn\\\\;C:\\\\Program Files\\\\Microsoft SQL Server\\\\Client SDK\\\\ODBC\\\\170\\\\Tools\\\\Binn\\\\;C:\\\\Program Files (x86)\\\\ePapyrus\\\\Papyrus-PlugIn-web;C:\\\\Program Files (x86)\\\\ePapyrus\\\\Papyrus-PlugIn-web\\\\Addins;C:\\\\Program Files\\\\Git\\\\cmd;C:\\\\Users\\\\com\\\\anaconda3;C:\\\\Users\\\\com\\\\anaconda3\\\\Library\\\\mingw-w64\\\\bin;C:\\\\Users\\\\com\\\\anaconda3\\\\Library\\\\usr\\\\bin;C:\\\\Users\\\\com\\\\anaconda3\\\\Library\\\\bin;C:\\\\Users\\\\com\\\\anaconda3\\\\Scripts;C:\\\\Users\\\\com\\\\AppData\\\\Local\\\\Programs\\\\Python\\\\Python38\\\\Scripts\\\\;C:\\\\Users\\\\com\\\\AppData\\\\Local\\\\Programs\\\\Python\\\\Python38\\\\;C:\\\\Users\\\\com\\\\AppData\\\\Local\\\\Microsoft\\\\WindowsApps;C:\\\\Program Files\\\\JetBrains\\\\PyCharm Community Edition 2021.3.1\\\\bin;C:\\\\Program Files\\\\MySQL\\\\MySQL Server 8.0\\\\bin;C:\\\\Users\\\\com\\\\AppData\\\\Local\\\\afreeca;C:\\\\Users\\\\com\\\\AppData\\\\Local\\\\atom\\\\bin;C:\\\\Users\\\\com\\\\AppData\\\\Local\\\\Programs\\\\Microsoft VS Code\\\\bin;C:\\\\Users\\\\com\\\\.dotnet\\\\tools'"
      ]
     },
     "execution_count": 2,
     "metadata": {},
     "output_type": "execute_result"
    }
   ],
   "source": [
    "os.environ['PATH']"
   ]
  },
  {
   "cell_type": "code",
   "execution_count": 3,
   "id": "e5f9ec20",
   "metadata": {},
   "outputs": [
    {
     "data": {
      "text/plain": [
       "'C:\\\\workspace\\\\WASSUP2\\\\python'"
      ]
     },
     "execution_count": 3,
     "metadata": {},
     "output_type": "execute_result"
    }
   ],
   "source": [
    "os.getcwd()"
   ]
  },
  {
   "cell_type": "code",
   "execution_count": 4,
   "id": "ee336dea",
   "metadata": {},
   "outputs": [
    {
     "data": {
      "text/plain": [
       "0"
      ]
     },
     "execution_count": 4,
     "metadata": {},
     "output_type": "execute_result"
    }
   ],
   "source": [
    "os.system(\"dir\")"
   ]
  },
  {
   "cell_type": "markdown",
   "id": "2000a22b",
   "metadata": {},
   "source": [
    "### json (dictionary in python)"
   ]
  },
  {
   "cell_type": "code",
   "execution_count": 8,
   "id": "26df02b6",
   "metadata": {},
   "outputs": [
    {
     "data": {
      "text/plain": [
       "(dict, {'name': '홍길동', 'birth': '0525', 'age': 30})"
      ]
     },
     "execution_count": 8,
     "metadata": {},
     "output_type": "execute_result"
    }
   ],
   "source": [
    "import json\n",
    "with open('myinfo.json', encoding=\"utf-8\") as f:\n",
    "    data = json.load(f)\n",
    "type(data), data"
   ]
  },
  {
   "cell_type": "code",
   "execution_count": 9,
   "id": "0c733032",
   "metadata": {},
   "outputs": [],
   "source": [
    "import json\n",
    "data = {'name': '유관순', 'birth': '0301', 'age': 18}\n",
    "with open('myinfo.json', 'w') as f:\n",
    "    json.dump(data, f)"
   ]
  },
  {
   "cell_type": "code",
   "execution_count": 11,
   "id": "7f51d798",
   "metadata": {},
   "outputs": [
    {
     "data": {
      "text/plain": [
       "'{\"name\": \"홍길동\", \"birth\": \"0525\", \"age\": 30}'"
      ]
     },
     "execution_count": 11,
     "metadata": {},
     "output_type": "execute_result"
    }
   ],
   "source": [
    "d = {'name': '홍길동', 'birth': '0525', 'age': 30}\n",
    "json_data = json.dumps(d, ensure_ascii=False)\n",
    "json_data"
   ]
  },
  {
   "cell_type": "markdown",
   "id": "93ac0c48",
   "metadata": {},
   "source": [
    "### urllib"
   ]
  },
  {
   "cell_type": "code",
   "execution_count": 12,
   "id": "e3c8dfc1",
   "metadata": {},
   "outputs": [],
   "source": [
    "import urllib.request\n",
    "\n",
    "def get_wikidocs(page):\n",
    "    resource = \"https://wikidocs.net/{}\".format(page)\n",
    "    with urllib.request.urlopen(resource) as s:\n",
    "        with open('wikidocs_%s.html' % page, 'wb') as f:\n",
    "            f.write(s.read())\n",
    "\n",
    "get_wikidocs(33)"
   ]
  },
  {
   "cell_type": "markdown",
   "id": "168fc8a5",
   "metadata": {},
   "source": [
    "### webbrowser"
   ]
  },
  {
   "cell_type": "code",
   "execution_count": 13,
   "id": "f3b9d069",
   "metadata": {},
   "outputs": [
    {
     "data": {
      "text/plain": [
       "True"
      ]
     },
     "execution_count": 13,
     "metadata": {},
     "output_type": "execute_result"
    }
   ],
   "source": [
    "import webbrowser\n",
    "webbrowser.open_new(\"http://python.org\")"
   ]
  },
  {
   "cell_type": "markdown",
   "id": "7f012660",
   "metadata": {},
   "source": [
    "### pip"
   ]
  },
  {
   "cell_type": "code",
   "execution_count": 14,
   "id": "40c7fa0c",
   "metadata": {},
   "outputs": [
    {
     "name": "stdout",
     "output_type": "stream",
     "text": [
      "Package                       Version\n",
      "----------------------------- ---------------\n",
      "aiobotocore                   2.5.0\n",
      "aiofiles                      22.1.0\n",
      "aiohttp                       3.8.5\n",
      "aioitertools                  0.7.1\n",
      "aiosignal                     1.2.0\n",
      "aiosqlite                     0.18.0\n",
      "alabaster                     0.7.12\n",
      "anaconda-anon-usage           0.4.2\n",
      "anaconda-catalogs             0.2.0\n",
      "anaconda-client               1.12.1\n",
      "anaconda-cloud-auth           0.1.3\n",
      "anaconda-navigator            2.5.0\n",
      "anaconda-project              0.11.1\n",
      "anyio                         3.5.0\n",
      "appdirs                       1.4.4\n",
      "argon2-cffi                   21.3.0\n",
      "argon2-cffi-bindings          21.2.0\n",
      "arrow                         1.2.3\n",
      "astroid                       2.14.2\n",
      "astropy                       5.1\n",
      "asttokens                     2.0.5\n",
      "async-timeout                 4.0.2\n",
      "atomicwrites                  1.4.0\n",
      "attrs                         22.1.0\n",
      "Automat                       20.2.0\n",
      "autopep8                      1.6.0\n",
      "Babel                         2.11.0\n",
      "backcall                      0.2.0\n",
      "backports.functools-lru-cache 1.6.4\n",
      "backports.tempfile            1.0\n",
      "backports.weakref             1.0.post1\n",
      "bcrypt                        3.2.0\n",
      "beautifulsoup4                4.12.2\n",
      "binaryornot                   0.4.4\n",
      "black                         0.0\n",
      "bleach                        4.1.0\n",
      "bokeh                         3.2.1\n",
      "boltons                       23.0.0\n",
      "botocore                      1.29.76\n",
      "Bottleneck                    1.3.5\n",
      "brotlipy                      0.7.0\n",
      "certifi                       2023.7.22\n",
      "cffi                          1.15.1\n",
      "chardet                       4.0.0\n",
      "charset-normalizer            2.0.4\n",
      "click                         8.0.4\n",
      "cloudpickle                   2.2.1\n",
      "clyent                        1.2.2\n",
      "colorama                      0.4.6\n",
      "colorcet                      3.0.1\n",
      "comm                          0.1.2\n",
      "conda                         23.7.4\n",
      "conda-build                   3.26.1\n",
      "conda-content-trust           0.2.0\n",
      "conda_index                   0.3.0\n",
      "conda-libmamba-solver         23.7.0\n",
      "conda-pack                    0.6.0\n",
      "conda-package-handling        2.2.0\n",
      "conda_package_streaming       0.9.0\n",
      "conda-repo-cli                1.0.75\n",
      "conda-token                   0.4.0\n",
      "conda-verify                  3.4.2\n",
      "constantly                    15.1.0\n",
      "contourpy                     1.0.5\n",
      "cookiecutter                  1.7.3\n",
      "cryptography                  41.0.3\n",
      "cssselect                     1.1.0\n",
      "cycler                        0.11.0\n",
      "cytoolz                       0.12.0\n",
      "daal4py                       2023.1.1\n",
      "dask                          2023.6.0\n",
      "datasets                      2.12.0\n",
      "datashader                    0.15.2\n",
      "datashape                     0.5.4\n",
      "debugpy                       1.6.7\n",
      "decorator                     5.1.1\n",
      "defusedxml                    0.7.1\n",
      "diff-match-patch              20200713\n",
      "dill                          0.3.6\n",
      "distributed                   2023.6.0\n",
      "docstring-to-markdown         0.11\n",
      "docutils                      0.18.1\n",
      "entrypoints                   0.4\n",
      "et-xmlfile                    1.1.0\n",
      "executing                     0.8.3\n",
      "fastjsonschema                2.16.2\n",
      "filelock                      3.9.0\n",
      "flake8                        6.0.0\n",
      "Flask                         2.2.2\n",
      "fonttools                     4.25.0\n",
      "frozenlist                    1.3.3\n",
      "fsspec                        2023.4.0\n",
      "future                        0.18.3\n",
      "gensim                        4.3.0\n",
      "glob2                         0.7\n",
      "greenlet                      2.0.1\n",
      "h5py                          3.9.0\n",
      "HeapDict                      1.0.1\n",
      "holoviews                     1.17.1\n",
      "huggingface-hub               0.15.1\n",
      "hvplot                        0.8.4\n",
      "hyperlink                     21.0.0\n",
      "idna                          3.4\n",
      "imagecodecs                   2023.1.23\n",
      "imageio                       2.26.0\n",
      "imagesize                     1.4.1\n",
      "imbalanced-learn              0.10.1\n",
      "importlib-metadata            6.0.0\n",
      "incremental                   21.3.0\n",
      "inflection                    0.5.1\n",
      "iniconfig                     1.1.1\n",
      "intake                        0.6.8\n",
      "intervaltree                  3.1.0\n",
      "ipykernel                     6.25.0\n",
      "ipython                       8.15.0\n",
      "ipython-genutils              0.2.0\n",
      "ipywidgets                    8.0.4\n",
      "isort                         5.9.3\n",
      "itemadapter                   0.3.0\n",
      "itemloaders                   1.0.4\n",
      "itsdangerous                  2.0.1\n",
      "jaraco.classes                3.2.1\n",
      "jedi                          0.18.1\n",
      "jellyfish                     1.0.1\n",
      "Jinja2                        3.1.2\n",
      "jinja2-time                   0.2.0\n",
      "jmespath                      0.10.0\n",
      "joblib                        1.2.0\n",
      "json5                         0.9.6\n",
      "jsonpatch                     1.32\n",
      "jsonpointer                   2.1\n",
      "jsonschema                    4.17.3\n",
      "jupyter                       1.0.0\n",
      "jupyter_client                7.4.9\n",
      "jupyter-console               6.6.3\n",
      "jupyter_core                  5.3.0\n",
      "jupyter-events                0.6.3\n",
      "jupyter-server                1.23.4\n",
      "jupyter_server_fileid         0.9.0\n",
      "jupyter_server_ydoc           0.8.0\n",
      "jupyter-ydoc                  0.2.4\n",
      "jupyterlab                    3.6.3\n",
      "jupyterlab-pygments           0.1.2\n",
      "jupyterlab_server             2.22.0\n",
      "jupyterlab-widgets            3.0.5\n",
      "kaleido                       0.2.1\n",
      "keyring                       23.13.1\n",
      "kiwisolver                    1.4.4\n",
      "lazy_loader                   0.2\n",
      "lazy-object-proxy             1.6.0\n",
      "libarchive-c                  2.9\n",
      "libmambapy                    1.5.1\n",
      "linkify-it-py                 2.0.0\n",
      "llvmlite                      0.40.0\n",
      "lmdb                          1.4.1\n",
      "locket                        1.0.0\n",
      "lxml                          4.9.3\n",
      "lz4                           4.3.2\n",
      "Markdown                      3.4.1\n",
      "markdown-it-py                2.2.0\n",
      "MarkupSafe                    2.1.1\n",
      "matplotlib                    3.7.2\n",
      "matplotlib-inline             0.1.6\n",
      "mccabe                        0.7.0\n",
      "mdit-py-plugins               0.3.0\n",
      "mdurl                         0.1.0\n",
      "menuinst                      1.4.19\n",
      "mistune                       0.8.4\n",
      "mkl-fft                       1.3.8\n",
      "mkl-random                    1.2.4\n",
      "mkl-service                   2.4.0\n",
      "more-itertools                8.12.0\n",
      "mpmath                        1.3.0\n",
      "msgpack                       1.0.3\n",
      "multidict                     6.0.2\n",
      "multipledispatch              0.6.0\n",
      "multiprocess                  0.70.14\n",
      "munkres                       1.1.4\n",
      "mypy-extensions               1.0.0\n",
      "navigator-updater             0.4.0\n",
      "nbclassic                     0.5.5\n",
      "nbclient                      0.5.13\n",
      "nbconvert                     6.5.4\n",
      "nbformat                      5.9.2\n",
      "nest-asyncio                  1.5.6\n",
      "networkx                      3.1\n",
      "nltk                          3.8.1\n",
      "notebook                      6.5.4\n",
      "notebook_shim                 0.2.2\n",
      "numba                         0.57.1\n",
      "numexpr                       2.8.4\n",
      "numpy                         1.24.3\n",
      "numpydoc                      1.5.0\n",
      "openpyxl                      3.0.10\n",
      "packaging                     23.1\n",
      "pandas                        2.0.3\n",
      "pandocfilters                 1.5.0\n",
      "panel                         1.2.3\n",
      "param                         1.13.0\n",
      "paramiko                      2.8.1\n",
      "parsel                        1.6.0\n",
      "parso                         0.8.3\n",
      "partd                         1.4.0\n",
      "pathlib                       1.0.1\n",
      "pathspec                      0.10.3\n",
      "patsy                         0.5.3\n",
      "pep8                          1.7.1\n",
      "pexpect                       4.8.0\n",
      "pickleshare                   0.7.5\n",
      "Pillow                        9.4.0\n",
      "pip                           23.2.1\n",
      "pkce                          1.0.3\n",
      "pkginfo                       1.9.6\n",
      "platformdirs                  3.10.0\n",
      "plotly                        5.9.0\n",
      "pluggy                        1.0.0\n",
      "ply                           3.11\n",
      "poyo                          0.5.0\n",
      "prometheus-client             0.14.1\n",
      "prompt-toolkit                3.0.36\n",
      "Protego                       0.1.16\n",
      "psutil                        5.9.0\n",
      "ptyprocess                    0.7.0\n",
      "pure-eval                     0.2.2\n",
      "py-cpuinfo                    8.0.0\n",
      "pyarrow                       11.0.0\n",
      "pyasn1                        0.4.8\n",
      "pyasn1-modules                0.2.8\n",
      "pycodestyle                   2.10.0\n",
      "pycosat                       0.6.4\n",
      "pycparser                     2.21\n",
      "pyct                          0.5.0\n",
      "pycurl                        7.45.2\n",
      "pydantic                      1.10.8\n",
      "PyDispatcher                  2.0.5\n",
      "pydocstyle                    6.3.0\n",
      "pyerfa                        2.0.0\n",
      "pyflakes                      3.0.1\n",
      "Pygments                      2.15.1\n",
      "PyJWT                         2.4.0\n",
      "pylint                        2.16.2\n",
      "pylint-venv                   2.3.0\n",
      "pyls-spyder                   0.4.0\n",
      "PyNaCl                        1.5.0\n",
      "pyodbc                        4.0.34\n",
      "pyOpenSSL                     23.2.0\n",
      "pyparsing                     3.0.9\n",
      "PyQt5                         5.15.7\n",
      "PyQt5-sip                     12.11.0\n",
      "PyQtWebEngine                 5.15.4\n",
      "pyrsistent                    0.18.0\n",
      "PySocks                       1.7.1\n",
      "pytest                        7.4.0\n",
      "python-dateutil               2.8.2\n",
      "python-dotenv                 0.21.0\n",
      "python-json-logger            2.0.7\n",
      "python-lsp-black              1.2.1\n",
      "python-lsp-jsonrpc            1.0.0\n",
      "python-lsp-server             1.7.2\n",
      "python-slugify                5.0.2\n",
      "python-snappy                 0.6.1\n",
      "pytoolconfig                  1.2.5\n",
      "pytz                          2023.3.post1\n",
      "pyviz-comms                   2.3.0\n",
      "PyWavelets                    1.4.1\n",
      "pywin32                       305.1\n",
      "pywin32-ctypes                0.2.0\n",
      "pywinpty                      2.0.10\n",
      "PyYAML                        6.0\n",
      "pyzmq                         23.2.0\n",
      "QDarkStyle                    3.0.2\n",
      "qstylizer                     0.2.2\n",
      "QtAwesome                     1.2.2\n",
      "qtconsole                     5.4.2\n",
      "QtPy                          2.2.0\n",
      "queuelib                      1.5.0\n",
      "regex                         2022.7.9\n",
      "requests                      2.31.0\n",
      "requests-file                 1.5.1\n",
      "requests-toolbelt             1.0.0\n",
      "responses                     0.13.3\n",
      "rfc3339-validator             0.1.4\n",
      "rfc3986-validator             0.1.1\n",
      "rope                          1.7.0\n",
      "Rtree                         1.0.1\n",
      "ruamel.yaml                   0.17.21\n",
      "ruamel-yaml-conda             0.17.21\n",
      "s3fs                          2023.4.0\n",
      "safetensors                   0.3.2\n",
      "scikit-image                  0.20.0\n",
      "scikit-learn                  1.3.0\n",
      "scikit-learn-intelex          20230426.121932\n",
      "scipy                         1.11.1\n",
      "Scrapy                        2.8.0\n",
      "seaborn                       0.12.2\n",
      "Send2Trash                    1.8.0\n",
      "service-identity              18.1.0\n",
      "setuptools                    68.0.0\n",
      "sip                           6.6.2\n",
      "six                           1.16.0\n",
      "smart-open                    5.2.1\n",
      "sniffio                       1.2.0\n",
      "snowballstemmer               2.2.0\n",
      "sortedcontainers              2.4.0\n",
      "soupsieve                     2.4\n",
      "Sphinx                        5.0.2\n",
      "sphinxcontrib-applehelp       1.0.2\n",
      "sphinxcontrib-devhelp         1.0.2\n",
      "sphinxcontrib-htmlhelp        2.0.0\n",
      "sphinxcontrib-jsmath          1.0.1\n",
      "sphinxcontrib-qthelp          1.0.3\n",
      "sphinxcontrib-serializinghtml 1.1.5\n",
      "spyder                        5.4.3\n",
      "spyder-kernels                2.4.4\n",
      "SQLAlchemy                    1.4.39\n",
      "stack-data                    0.2.0\n",
      "statsmodels                   0.14.0\n",
      "sympy                         1.11.1\n",
      "tables                        3.8.0\n",
      "tabulate                      0.8.10\n",
      "TBB                           0.2\n",
      "tblib                         1.7.0\n",
      "tenacity                      8.2.2\n",
      "terminado                     0.17.1\n",
      "text-unidecode                1.3\n",
      "textdistance                  4.2.1\n",
      "threadpoolctl                 2.2.0\n",
      "three-merge                   0.1.1\n",
      "tifffile                      2023.4.12\n",
      "tinycss2                      1.2.1\n",
      "tldextract                    3.2.0\n",
      "tokenizers                    0.13.2\n",
      "toml                          0.10.2\n",
      "tomlkit                       0.11.1\n",
      "toolz                         0.12.0\n",
      "tornado                       6.3.2\n",
      "tqdm                          4.65.0\n",
      "traitlets                     5.7.1\n",
      "transformers                  4.32.1\n",
      "Twisted                       22.10.0\n",
      "twisted-iocpsupport           1.0.2\n",
      "typing_extensions             4.7.1\n",
      "tzdata                        2023.3\n",
      "uc-micro-py                   1.0.1\n",
      "ujson                         5.4.0\n",
      "Unidecode                     1.2.0\n",
      "urllib3                       1.26.16\n",
      "w3lib                         1.21.0\n",
      "watchdog                      2.1.6\n",
      "wcwidth                       0.2.5\n",
      "webencodings                  0.5.1\n",
      "websocket-client              0.58.0\n",
      "Werkzeug                      2.2.3\n",
      "whatthepatch                  1.0.2\n",
      "wheel                         0.38.4\n",
      "widgetsnbextension            4.0.5\n",
      "win-inet-pton                 1.1.0\n",
      "wrapt                         1.14.1\n",
      "xarray                        2023.6.0\n",
      "xlwings                       0.29.1\n",
      "xxhash                        2.0.2\n",
      "xyzservices                   2022.9.0\n",
      "y-py                          0.5.9\n",
      "yapf                          0.31.0\n",
      "yarl                          1.8.1\n",
      "ypy-websocket                 0.8.2\n",
      "zict                          2.2.0\n",
      "zipp                          3.11.0\n",
      "zope.interface                5.4.0\n",
      "zstandard                     0.19.0\n",
      "Note: you may need to restart the kernel to use updated packages.\n"
     ]
    }
   ],
   "source": [
    "pip list"
   ]
  },
  {
   "cell_type": "markdown",
   "id": "77398f6a",
   "metadata": {},
   "source": [
    "### Faker"
   ]
  },
  {
   "cell_type": "code",
   "execution_count": 15,
   "id": "7b7f0279",
   "metadata": {},
   "outputs": [
    {
     "name": "stdout",
     "output_type": "stream",
     "text": [
      "Collecting Faker\n",
      "  Obtaining dependency information for Faker from https://files.pythonhosted.org/packages/c5/ad/87c165d63be249db767227109d35e22cde75c9c941d69edc1b175f4928f0/Faker-24.1.0-py3-none-any.whl.metadata\n",
      "  Downloading Faker-24.1.0-py3-none-any.whl.metadata (15 kB)\n",
      "Requirement already satisfied: python-dateutil>=2.4 in c:\\users\\com\\anaconda3\\lib\\site-packages (from Faker) (2.8.2)\n",
      "Requirement already satisfied: six>=1.5 in c:\\users\\com\\anaconda3\\lib\\site-packages (from python-dateutil>=2.4->Faker) (1.16.0)\n",
      "Downloading Faker-24.1.0-py3-none-any.whl (1.8 MB)\n",
      "   ---------------------------------------- 0.0/1.8 MB ? eta -:--:--\n",
      "   ---------------------------------------- 0.0/1.8 MB ? eta -:--:--\n",
      "   - -------------------------------------- 0.1/1.8 MB 825.8 kB/s eta 0:00:03\n",
      "   ---------------------------------- ----- 1.5/1.8 MB 13.6 MB/s eta 0:00:01\n",
      "   ---------------------------------------- 1.8/1.8 MB 14.0 MB/s eta 0:00:00\n",
      "Installing collected packages: Faker\n",
      "Successfully installed Faker-24.1.0\n",
      "Note: you may need to restart the kernel to use updated packages.\n"
     ]
    }
   ],
   "source": [
    "pip install Faker"
   ]
  },
  {
   "cell_type": "code",
   "execution_count": 16,
   "id": "d49ed974",
   "metadata": {},
   "outputs": [],
   "source": [
    "from faker import Faker\n",
    "fake = Faker()"
   ]
  },
  {
   "cell_type": "code",
   "execution_count": 17,
   "id": "b5f39fdd",
   "metadata": {},
   "outputs": [
    {
     "data": {
      "text/plain": [
       "'Deborah Williams'"
      ]
     },
     "execution_count": 17,
     "metadata": {},
     "output_type": "execute_result"
    }
   ],
   "source": [
    "fake.name()"
   ]
  },
  {
   "cell_type": "code",
   "execution_count": 18,
   "id": "255995cf",
   "metadata": {},
   "outputs": [
    {
     "data": {
      "text/plain": [
       "'박영수'"
      ]
     },
     "execution_count": 18,
     "metadata": {},
     "output_type": "execute_result"
    }
   ],
   "source": [
    "fake = Faker('ko-KR')\n",
    "fake.name()"
   ]
  },
  {
   "cell_type": "code",
   "execution_count": 19,
   "id": "2c833a0a",
   "metadata": {},
   "outputs": [
    {
     "data": {
      "text/plain": [
       "'광주광역시 양천구 역삼가'"
      ]
     },
     "execution_count": 19,
     "metadata": {},
     "output_type": "execute_result"
    }
   ],
   "source": [
    "fake.address()"
   ]
  },
  {
   "cell_type": "code",
   "execution_count": 21,
   "id": "6f8f1b6c",
   "metadata": {},
   "outputs": [
    {
     "data": {
      "text/plain": [
       "[('박시우', '인천광역시 양천구 테헤란92길'),\n",
       " ('노정식', '인천광역시 금천구 석촌호수길'),\n",
       " ('황정웅', '세종특별자치시 남구 압구정길'),\n",
       " ('송성훈', '충청남도 서산시 반포대길'),\n",
       " ('김병철', '대구광역시 서대문구 도산대거리'),\n",
       " ('주현우', '충청남도 단양군 백제고분가 (현주이읍)'),\n",
       " ('지수민', '전라남도 보은군 테헤란11로'),\n",
       " ('김성진', '충청남도 청주시 청원구 도산대466거리 (정희권윤마을)'),\n",
       " ('최영희', '경기도 안양시 만안구 역삼718가 (지연최이리)'),\n",
       " ('이미숙', '광주광역시 강서구 서초대34로 (영자김면)')]"
      ]
     },
     "execution_count": 21,
     "metadata": {},
     "output_type": "execute_result"
    }
   ],
   "source": [
    "test_data = [(fake.name(), fake.address()) for i in range(10)]\n",
    "test_data"
   ]
  },
  {
   "cell_type": "code",
   "execution_count": 22,
   "id": "41c5a6c2",
   "metadata": {},
   "outputs": [
    {
     "data": {
      "text/plain": [
       "'확대된 역수 시간화'"
      ]
     },
     "execution_count": 22,
     "metadata": {},
     "output_type": "execute_result"
    }
   ],
   "source": [
    "fake.catch_phrase()"
   ]
  },
  {
   "cell_type": "code",
   "execution_count": 23,
   "id": "6a68bf44",
   "metadata": {},
   "outputs": [
    {
     "data": {
      "text/plain": [
       "'변경 가능한 멀티 태스킹 허브'"
      ]
     },
     "execution_count": 23,
     "metadata": {},
     "output_type": "execute_result"
    }
   ],
   "source": [
    "fake.catch_phrase()"
   ]
  }
 ],
 "metadata": {
  "kernelspec": {
   "display_name": "Python 3 (ipykernel)",
   "language": "python",
   "name": "python3"
  },
  "language_info": {
   "codemirror_mode": {
    "name": "ipython",
    "version": 3
   },
   "file_extension": ".py",
   "mimetype": "text/x-python",
   "name": "python",
   "nbconvert_exporter": "python",
   "pygments_lexer": "ipython3",
   "version": "3.11.5"
  }
 },
 "nbformat": 4,
 "nbformat_minor": 5
}
