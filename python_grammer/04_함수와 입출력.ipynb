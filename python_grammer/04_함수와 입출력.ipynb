{
 "cells": [
  {
   "cell_type": "markdown",
   "id": "c0cc0917",
   "metadata": {},
   "source": [
    "## 함수와 입출력"
   ]
  },
  {
   "cell_type": "markdown",
   "id": "9699c933",
   "metadata": {},
   "source": [
    "### 함수의 구조"
   ]
  },
  {
   "cell_type": "code",
   "execution_count": 1,
   "id": "0cca2cbb",
   "metadata": {},
   "outputs": [],
   "source": [
    "def add(a, b): # 매개변수\n",
    "    return a + b"
   ]
  },
  {
   "cell_type": "code",
   "execution_count": 2,
   "id": "6d9f2db9",
   "metadata": {},
   "outputs": [
    {
     "data": {
      "text/plain": [
       "7"
      ]
     },
     "execution_count": 2,
     "metadata": {},
     "output_type": "execute_result"
    }
   ],
   "source": [
    "a = 3\n",
    "b = 4\n",
    "add(a, b) # 인수"
   ]
  },
  {
   "cell_type": "code",
   "execution_count": 3,
   "id": "7d3a4c59",
   "metadata": {},
   "outputs": [
    {
     "data": {
      "text/plain": [
       "7"
      ]
     },
     "execution_count": 3,
     "metadata": {},
     "output_type": "execute_result"
    }
   ],
   "source": [
    "c = add(a, b)\n",
    "c"
   ]
  },
  {
   "cell_type": "markdown",
   "id": "bc96e3a5",
   "metadata": {},
   "source": [
    "### 매개변수와 인수"
   ]
  },
  {
   "cell_type": "code",
   "execution_count": 4,
   "id": "2864a002",
   "metadata": {},
   "outputs": [
    {
     "data": {
      "text/plain": [
       "12"
      ]
     },
     "execution_count": 4,
     "metadata": {},
     "output_type": "execute_result"
    }
   ],
   "source": [
    "add(5, 7)"
   ]
  },
  {
   "cell_type": "markdown",
   "id": "204037be",
   "metadata": {},
   "source": [
    "### 입력값과 리턴값에 따른 함수의 형태"
   ]
  },
  {
   "cell_type": "code",
   "execution_count": 5,
   "id": "1fbdc7be",
   "metadata": {},
   "outputs": [],
   "source": [
    "# 일반적인 함수\n",
    "def add(a, b):\n",
    "    result = a + b\n",
    "    return result"
   ]
  },
  {
   "cell_type": "code",
   "execution_count": 6,
   "id": "3a6a142f",
   "metadata": {},
   "outputs": [
    {
     "name": "stdout",
     "output_type": "stream",
     "text": [
      "7\n"
     ]
    }
   ],
   "source": [
    "a = add(3, 4)\n",
    "print(a)"
   ]
  },
  {
   "cell_type": "code",
   "execution_count": 7,
   "id": "f95c8904",
   "metadata": {},
   "outputs": [],
   "source": [
    "# 입력값이 없는 함수\n",
    "def say():\n",
    "    return \"Hi\""
   ]
  },
  {
   "cell_type": "code",
   "execution_count": 8,
   "id": "4fcba237",
   "metadata": {},
   "outputs": [
    {
     "data": {
      "text/plain": [
       "'Hi'"
      ]
     },
     "execution_count": 8,
     "metadata": {},
     "output_type": "execute_result"
    }
   ],
   "source": [
    "say()"
   ]
  },
  {
   "cell_type": "code",
   "execution_count": 9,
   "id": "5c8f834c",
   "metadata": {},
   "outputs": [
    {
     "data": {
      "text/plain": [
       "'Hi'"
      ]
     },
     "execution_count": 9,
     "metadata": {},
     "output_type": "execute_result"
    }
   ],
   "source": [
    "a = say()\n",
    "a"
   ]
  },
  {
   "cell_type": "code",
   "execution_count": 10,
   "id": "b0d0d23c",
   "metadata": {},
   "outputs": [],
   "source": [
    "# 리턴값이 없는 함수\n",
    "def add(a, b):\n",
    "    print(\"%d, %d의 합은 %d입니다.\" % (a, b, a + b))"
   ]
  },
  {
   "cell_type": "code",
   "execution_count": 11,
   "id": "9d720376",
   "metadata": {},
   "outputs": [
    {
     "name": "stdout",
     "output_type": "stream",
     "text": [
      "3, 4의 합은 7입니다.\n"
     ]
    }
   ],
   "source": [
    "add(3, 4)"
   ]
  },
  {
   "cell_type": "code",
   "execution_count": 13,
   "id": "05bf0073",
   "metadata": {},
   "outputs": [
    {
     "name": "stdout",
     "output_type": "stream",
     "text": [
      "3, 4의 합은 7입니다.\n",
      "None\n"
     ]
    }
   ],
   "source": [
    "a = add(3, 4)\n",
    "print(a)"
   ]
  },
  {
   "cell_type": "code",
   "execution_count": 14,
   "id": "b95770a1",
   "metadata": {},
   "outputs": [],
   "source": [
    "# 입력값과 리턴값이 모두 없는 함수\n",
    "def say():\n",
    "    print(\"Hi\")"
   ]
  },
  {
   "cell_type": "code",
   "execution_count": 15,
   "id": "d132e9f6",
   "metadata": {},
   "outputs": [
    {
     "name": "stdout",
     "output_type": "stream",
     "text": [
      "Hi\n"
     ]
    }
   ],
   "source": [
    "say()"
   ]
  },
  {
   "cell_type": "code",
   "execution_count": 17,
   "id": "2ef161ed",
   "metadata": {},
   "outputs": [
    {
     "name": "stdout",
     "output_type": "stream",
     "text": [
      "Hi\n"
     ]
    }
   ],
   "source": [
    "a = say()"
   ]
  },
  {
   "cell_type": "code",
   "execution_count": 18,
   "id": "bca0c18c",
   "metadata": {},
   "outputs": [],
   "source": [
    "a"
   ]
  },
  {
   "cell_type": "markdown",
   "id": "799c8bf3",
   "metadata": {},
   "source": [
    "### 매개변수를 지정하여 호출하기"
   ]
  },
  {
   "cell_type": "code",
   "execution_count": 19,
   "id": "4c37facc",
   "metadata": {},
   "outputs": [],
   "source": [
    "def sub(a, b):\n",
    "    return a - b"
   ]
  },
  {
   "cell_type": "code",
   "execution_count": 20,
   "id": "49222abc",
   "metadata": {},
   "outputs": [
    {
     "data": {
      "text/plain": [
       "4"
      ]
     },
     "execution_count": 20,
     "metadata": {},
     "output_type": "execute_result"
    }
   ],
   "source": [
    "sub(7, 3)"
   ]
  },
  {
   "cell_type": "code",
   "execution_count": 21,
   "id": "adec5c55",
   "metadata": {},
   "outputs": [
    {
     "data": {
      "text/plain": [
       "4"
      ]
     },
     "execution_count": 21,
     "metadata": {},
     "output_type": "execute_result"
    }
   ],
   "source": [
    "a = 7\n",
    "b = 3\n",
    "sub(a, b)"
   ]
  },
  {
   "cell_type": "code",
   "execution_count": 22,
   "id": "74535d81",
   "metadata": {},
   "outputs": [
    {
     "name": "stdout",
     "output_type": "stream",
     "text": [
      "4\n"
     ]
    }
   ],
   "source": [
    "result = sub(a = 7, b = 3) # a에 7, b에 3 전달\n",
    "print(result)"
   ]
  },
  {
   "cell_type": "code",
   "execution_count": 23,
   "id": "472c6dc0",
   "metadata": {},
   "outputs": [
    {
     "data": {
      "text/plain": [
       "4"
      ]
     },
     "execution_count": 23,
     "metadata": {},
     "output_type": "execute_result"
    }
   ],
   "source": [
    "sub(b = 3, a = 7)"
   ]
  },
  {
   "cell_type": "markdown",
   "id": "7240813c",
   "metadata": {},
   "source": [
    "### 입력값이 몇 개가 될 지 모를 때에는 어떻게 해야 할까?"
   ]
  },
  {
   "cell_type": "code",
   "execution_count": 24,
   "id": "b93af59e",
   "metadata": {},
   "outputs": [],
   "source": [
    "print?"
   ]
  },
  {
   "cell_type": "code",
   "execution_count": 25,
   "id": "f1ad4fcb",
   "metadata": {},
   "outputs": [],
   "source": [
    "def add_many(*args): # 매개변수가 가변적\n",
    "    result = 0\n",
    "    for i in args:\n",
    "        result = result + i # *args에 입력받은 모든 값을 더한다.\n",
    "    return result"
   ]
  },
  {
   "cell_type": "code",
   "execution_count": 26,
   "id": "339bcc8c",
   "metadata": {},
   "outputs": [
    {
     "name": "stdout",
     "output_type": "stream",
     "text": [
      "6\n"
     ]
    }
   ],
   "source": [
    "result = add_many(1, 2, 3)\n",
    "print(result)"
   ]
  },
  {
   "cell_type": "code",
   "execution_count": 27,
   "id": "9918a0ae",
   "metadata": {},
   "outputs": [
    {
     "name": "stdout",
     "output_type": "stream",
     "text": [
      "55\n"
     ]
    }
   ],
   "source": [
    "result = add_many(1, 2, 3, 4, 5, 6, 7, 8, 9, 10)\n",
    "print(result)"
   ]
  },
  {
   "cell_type": "code",
   "execution_count": 28,
   "id": "f427b072",
   "metadata": {},
   "outputs": [],
   "source": [
    "def add_mul(choice, *args):\n",
    "    if choice == \"add\": # 매개변수 choice에 \"add\"를 입력받았을 때\n",
    "        result = 0\n",
    "        for i in args:\n",
    "            result += i\n",
    "    elif choice == \"mul\": # 매개변수 choice에 \"mul\"을 입력받았을 때\n",
    "        result = 1\n",
    "        for i in args:\n",
    "            result *= i\n",
    "    return result"
   ]
  },
  {
   "cell_type": "code",
   "execution_count": 29,
   "id": "343903c5",
   "metadata": {},
   "outputs": [
    {
     "name": "stdout",
     "output_type": "stream",
     "text": [
      "15\n"
     ]
    }
   ],
   "source": [
    "result = add_mul(\"add\", 1, 2, 3, 4, 5)\n",
    "print(result)"
   ]
  },
  {
   "cell_type": "code",
   "execution_count": 30,
   "id": "6baf4197",
   "metadata": {},
   "outputs": [
    {
     "name": "stdout",
     "output_type": "stream",
     "text": [
      "120\n"
     ]
    }
   ],
   "source": [
    "result = add_mul(\"mul\", 1, 2, 3, 4, 5)\n",
    "print(result)"
   ]
  },
  {
   "cell_type": "markdown",
   "id": "98b2d098",
   "metadata": {},
   "source": [
    "### 키워드 매개변수 kwargs"
   ]
  },
  {
   "cell_type": "code",
   "execution_count": 31,
   "id": "17a9a759",
   "metadata": {},
   "outputs": [],
   "source": [
    "def print_kwargs(**kwargs):\n",
    "    print(kwargs)"
   ]
  },
  {
   "cell_type": "code",
   "execution_count": 32,
   "id": "b5d9e8ab",
   "metadata": {},
   "outputs": [
    {
     "name": "stdout",
     "output_type": "stream",
     "text": [
      "{'a': 1}\n"
     ]
    }
   ],
   "source": [
    "print_kwargs(a = 1)"
   ]
  },
  {
   "cell_type": "code",
   "execution_count": 33,
   "id": "421e9748",
   "metadata": {},
   "outputs": [
    {
     "name": "stdout",
     "output_type": "stream",
     "text": [
      "{'name': 'foo', 'age': 3}\n"
     ]
    }
   ],
   "source": [
    "print_kwargs(name = \"foo\", age = 3)"
   ]
  },
  {
   "cell_type": "markdown",
   "id": "7944c1c5",
   "metadata": {},
   "source": [
    "### 함수의 리턴값은 언제나 하나"
   ]
  },
  {
   "cell_type": "code",
   "execution_count": 35,
   "id": "5726a1ca",
   "metadata": {},
   "outputs": [],
   "source": [
    "def add_and_mul(a, b): # 정의만 했으므로 실행했을 때 오류 X\n",
    "    return a + b, a * b"
   ]
  },
  {
   "cell_type": "code",
   "execution_count": 36,
   "id": "9cea2467",
   "metadata": {},
   "outputs": [
    {
     "data": {
      "text/plain": [
       "(7, 12)"
      ]
     },
     "execution_count": 36,
     "metadata": {},
     "output_type": "execute_result"
    }
   ],
   "source": [
    "result = add_and_mul(3, 4)\n",
    "result"
   ]
  },
  {
   "cell_type": "code",
   "execution_count": 38,
   "id": "6a06ce2a",
   "metadata": {},
   "outputs": [
    {
     "data": {
      "text/plain": [
       "7"
      ]
     },
     "execution_count": 38,
     "metadata": {},
     "output_type": "execute_result"
    }
   ],
   "source": [
    "result1, result2 = add_and_mul(3, 4)\n",
    "result1"
   ]
  },
  {
   "cell_type": "code",
   "execution_count": 39,
   "id": "602bde03",
   "metadata": {},
   "outputs": [
    {
     "data": {
      "text/plain": [
       "12"
      ]
     },
     "execution_count": 39,
     "metadata": {},
     "output_type": "execute_result"
    }
   ],
   "source": [
    "result2"
   ]
  },
  {
   "cell_type": "code",
   "execution_count": 41,
   "id": "1f5511e4",
   "metadata": {},
   "outputs": [],
   "source": [
    "def add_and_mul(a, b):\n",
    "    return a + b\n",
    "    return a * b"
   ]
  },
  {
   "cell_type": "code",
   "execution_count": 42,
   "id": "c7bfa7c1",
   "metadata": {},
   "outputs": [
    {
     "name": "stdout",
     "output_type": "stream",
     "text": [
      "5\n"
     ]
    }
   ],
   "source": [
    "result = add_and_mul(2, 3)\n",
    "print(result)"
   ]
  },
  {
   "cell_type": "code",
   "execution_count": 46,
   "id": "d7dc7767",
   "metadata": {},
   "outputs": [],
   "source": [
    "def say_nick(nick):\n",
    "    if nick == \"바보\":\n",
    "        return\n",
    "    print(\"나의 별명은 %s 입니다.\" % nick)"
   ]
  },
  {
   "cell_type": "code",
   "execution_count": 47,
   "id": "2863f552",
   "metadata": {},
   "outputs": [
    {
     "name": "stdout",
     "output_type": "stream",
     "text": [
      "나의 별명은 야호 입니다.\n"
     ]
    }
   ],
   "source": [
    "say_nick(\"야호\")"
   ]
  },
  {
   "cell_type": "code",
   "execution_count": 48,
   "id": "402df8a9",
   "metadata": {},
   "outputs": [],
   "source": [
    "say_nick(\"바보\")"
   ]
  },
  {
   "cell_type": "markdown",
   "id": "53562cde",
   "metadata": {},
   "source": [
    "### 매개변수에 초기값 미리 설정하기"
   ]
  },
  {
   "cell_type": "code",
   "execution_count": 49,
   "id": "51e5a9f4",
   "metadata": {},
   "outputs": [],
   "source": [
    "def say_myself(name, age, man=True): # man=True가 초기값\n",
    "    print(\"나의 이름은 %s 입니다.\" % name)\n",
    "    print(\"나이는 %d살 입니다.\" % age)\n",
    "    if man:\n",
    "        print(\"남자입니다.\")\n",
    "    else:\n",
    "        print(\"여자입니다.\")"
   ]
  },
  {
   "cell_type": "code",
   "execution_count": 51,
   "id": "fb6d4e84",
   "metadata": {},
   "outputs": [
    {
     "name": "stdout",
     "output_type": "stream",
     "text": [
      "나의 이름은 오유진 입니다.\n",
      "나이는 22살 입니다.\n",
      "남자입니다.\n"
     ]
    }
   ],
   "source": [
    "say_myself(\"오유진\", 22)"
   ]
  },
  {
   "cell_type": "code",
   "execution_count": 53,
   "id": "e7188e76",
   "metadata": {},
   "outputs": [
    {
     "name": "stdout",
     "output_type": "stream",
     "text": [
      "나의 이름은 오유진 입니다.\n",
      "나이는 22살 입니다.\n",
      "여자입니다.\n"
     ]
    }
   ],
   "source": [
    "say_myself(\"오유진\", 22, False)"
   ]
  },
  {
   "cell_type": "code",
   "execution_count": 54,
   "id": "f52d78b7",
   "metadata": {},
   "outputs": [],
   "source": [
    "# def say_myself(name, age, man=True): # 에러코드, 초기값은 항상 마지막에 위치해야 함\n",
    "#     print(\"나의 이름은 %s 입니다.\" % name)\n",
    "#     print(\"나이는 %d살 입니다.\" % age)\n",
    "#     if man:\n",
    "#         print(\"남자입니다.\")\n",
    "#     else:\n",
    "#         print(\"여자입니다.\")"
   ]
  },
  {
   "cell_type": "markdown",
   "id": "47d8b736",
   "metadata": {},
   "source": [
    "### 함수 안에서 선언한 변수의 효력 범위"
   ]
  },
  {
   "cell_type": "code",
   "execution_count": 55,
   "id": "43b67c0f",
   "metadata": {},
   "outputs": [
    {
     "name": "stdout",
     "output_type": "stream",
     "text": [
      "1\n"
     ]
    }
   ],
   "source": [
    "a = 1\n",
    "\n",
    "def vartest(a):\n",
    "    a += 1\n",
    "\n",
    "vartest(a)\n",
    "print(a)"
   ]
  },
  {
   "cell_type": "code",
   "execution_count": 56,
   "id": "be5e06ed",
   "metadata": {},
   "outputs": [
    {
     "name": "stdout",
     "output_type": "stream",
     "text": [
      "None\n"
     ]
    }
   ],
   "source": [
    "print(vartest(a))"
   ]
  },
  {
   "cell_type": "code",
   "execution_count": 57,
   "id": "8bdf30de",
   "metadata": {},
   "outputs": [
    {
     "name": "stdout",
     "output_type": "stream",
     "text": [
      "1\n"
     ]
    }
   ],
   "source": [
    "a = 1\n",
    "\n",
    "def vartest(a):\n",
    "    a += 1\n",
    "\n",
    "vartest(3)\n",
    "print(a)"
   ]
  },
  {
   "cell_type": "markdown",
   "id": "4f8254c5",
   "metadata": {},
   "source": [
    "### 함수 안에서 함수 밖의 변수를 변경하는 방법"
   ]
  },
  {
   "cell_type": "code",
   "execution_count": 58,
   "id": "3e82c462",
   "metadata": {},
   "outputs": [
    {
     "name": "stdout",
     "output_type": "stream",
     "text": [
      "2\n"
     ]
    }
   ],
   "source": [
    "# return 사용하기\n",
    "a = 1\n",
    "\n",
    "def vartest(a):\n",
    "    a += 1\n",
    "    return a\n",
    "\n",
    "a = vartest(a)\n",
    "print(a)"
   ]
  },
  {
   "cell_type": "code",
   "execution_count": 59,
   "id": "01a7f368",
   "metadata": {},
   "outputs": [
    {
     "name": "stdout",
     "output_type": "stream",
     "text": [
      "2\n"
     ]
    }
   ],
   "source": [
    "# global 명령어 사용하기\n",
    "a = 1\n",
    "\n",
    "def vartest():\n",
    "    global a\n",
    "    a += 1\n",
    "\n",
    "vartest()\n",
    "print(a)"
   ]
  },
  {
   "cell_type": "markdown",
   "id": "dbbca97a",
   "metadata": {},
   "source": [
    "### 람다식"
   ]
  },
  {
   "cell_type": "code",
   "execution_count": 61,
   "id": "da56ec47",
   "metadata": {},
   "outputs": [
    {
     "name": "stdout",
     "output_type": "stream",
     "text": [
      "7\n"
     ]
    }
   ],
   "source": [
    "add = lambda a, b: a + b\n",
    "result = add(3, 4)\n",
    "print(result)"
   ]
  },
  {
   "cell_type": "code",
   "execution_count": 62,
   "id": "8ea4208e",
   "metadata": {},
   "outputs": [
    {
     "name": "stdout",
     "output_type": "stream",
     "text": [
      "7\n"
     ]
    }
   ],
   "source": [
    "def add(a, b):\n",
    "    return a + b\n",
    "result = add(3, 4)\n",
    "print(result)"
   ]
  },
  {
   "cell_type": "code",
   "execution_count": 63,
   "id": "ca41a209",
   "metadata": {},
   "outputs": [],
   "source": [
    "# 람다식은 일회성으로 사용한다"
   ]
  },
  {
   "cell_type": "markdown",
   "id": "50a9e6e2",
   "metadata": {},
   "source": [
    "## 사용자 입출력"
   ]
  },
  {
   "cell_type": "markdown",
   "id": "f4f01185",
   "metadata": {},
   "source": [
    "### input 사용"
   ]
  },
  {
   "cell_type": "code",
   "execution_count": 64,
   "id": "98cbb8e1",
   "metadata": {},
   "outputs": [
    {
     "name": "stdout",
     "output_type": "stream",
     "text": [
      "Life is too short, you need python\n"
     ]
    },
    {
     "data": {
      "text/plain": [
       "'Life is too short, you need python'"
      ]
     },
     "execution_count": 64,
     "metadata": {},
     "output_type": "execute_result"
    }
   ],
   "source": [
    "a = input()\n",
    "a"
   ]
  },
  {
   "cell_type": "markdown",
   "id": "18bde3a0",
   "metadata": {},
   "source": [
    "### prompt 띄우기"
   ]
  },
  {
   "cell_type": "code",
   "execution_count": 65,
   "id": "cc73aec5",
   "metadata": {},
   "outputs": [
    {
     "name": "stdout",
     "output_type": "stream",
     "text": [
      "숫자를 입력하세요: 3\n"
     ]
    },
    {
     "data": {
      "text/plain": [
       "'3'"
      ]
     },
     "execution_count": 65,
     "metadata": {},
     "output_type": "execute_result"
    }
   ],
   "source": [
    "number = input(\"숫자를 입력하세요: \") # prompt\n",
    "number"
   ]
  },
  {
   "cell_type": "code",
   "execution_count": 66,
   "id": "1cb78b2c",
   "metadata": {},
   "outputs": [
    {
     "data": {
      "text/plain": [
       "str"
      ]
     },
     "execution_count": 66,
     "metadata": {},
     "output_type": "execute_result"
    }
   ],
   "source": [
    "type(number)"
   ]
  },
  {
   "cell_type": "markdown",
   "id": "312d2ba0",
   "metadata": {},
   "source": [
    "### print 자세히 알기"
   ]
  },
  {
   "cell_type": "code",
   "execution_count": 67,
   "id": "505017a8",
   "metadata": {},
   "outputs": [
    {
     "name": "stdout",
     "output_type": "stream",
     "text": [
      "lististoo short\n"
     ]
    }
   ],
   "source": [
    "print(\"list\" \"is\" \"too short\")"
   ]
  },
  {
   "cell_type": "code",
   "execution_count": 69,
   "id": "255d491a",
   "metadata": {},
   "outputs": [
    {
     "name": "stdout",
     "output_type": "stream",
     "text": [
      "lifeistoo short\n"
     ]
    }
   ],
   "source": [
    "print(\"life\" + \"is\" + \"too short\")"
   ]
  },
  {
   "cell_type": "code",
   "execution_count": 70,
   "id": "5b58d5b8",
   "metadata": {},
   "outputs": [
    {
     "name": "stdout",
     "output_type": "stream",
     "text": [
      "0 1 2 3 4 5 6 7 8 9 "
     ]
    }
   ],
   "source": [
    "for i in range(10):\n",
    "    print(i, end = ' ')"
   ]
  },
  {
   "cell_type": "markdown",
   "id": "b98d9e62",
   "metadata": {},
   "source": [
    "## 파일 읽고 쓰기"
   ]
  },
  {
   "cell_type": "markdown",
   "id": "8b88b495",
   "metadata": {},
   "source": [
    "### 파일 생성하기"
   ]
  },
  {
   "cell_type": "code",
   "execution_count": 72,
   "id": "28eff60b",
   "metadata": {},
   "outputs": [
    {
     "data": {
      "text/plain": [
       "<_io.TextIOWrapper name='새파일.txt' mode='r' encoding='cp949'>"
      ]
     },
     "execution_count": 72,
     "metadata": {},
     "output_type": "execute_result"
    }
   ],
   "source": [
    "f = open(\"새파일.txt\", 'w')"
   ]
  },
  {
   "cell_type": "code",
   "execution_count": 73,
   "id": "f1591fd2",
   "metadata": {},
   "outputs": [],
   "source": [
    "f.close()"
   ]
  },
  {
   "cell_type": "markdown",
   "id": "bba8d7e7",
   "metadata": {},
   "source": [
    "### 파일을 쓰기 모드로 열어서 내용 쓰기"
   ]
  },
  {
   "cell_type": "code",
   "execution_count": 74,
   "id": "89a35449",
   "metadata": {},
   "outputs": [],
   "source": [
    "f = open(\"C:\\workspace\\WASSUP2\\python\\새파일.txt\", 'w')\n",
    "for i in range(1, 11):\n",
    "    data = \"%d번째 줄입니다.\\n\" % i\n",
    "    f.write(data)\n",
    "f.close()"
   ]
  },
  {
   "cell_type": "code",
   "execution_count": 75,
   "id": "bede66c0",
   "metadata": {},
   "outputs": [
    {
     "name": "stdout",
     "output_type": "stream",
     "text": [
      "1번째 줄입니다.\n",
      "\n",
      "2번째 줄입니다.\n",
      "\n",
      "3번째 줄입니다.\n",
      "\n",
      "4번째 줄입니다.\n",
      "\n",
      "5번째 줄입니다.\n",
      "\n",
      "6번째 줄입니다.\n",
      "\n",
      "7번째 줄입니다.\n",
      "\n",
      "8번째 줄입니다.\n",
      "\n",
      "9번째 줄입니다.\n",
      "\n",
      "10번째 줄입니다.\n",
      "\n"
     ]
    }
   ],
   "source": [
    "for i in range(1, 11):\n",
    "    data = \"%d번째 줄입니다.\\n\" % i\n",
    "    print(data)"
   ]
  },
  {
   "cell_type": "markdown",
   "id": "e8c39fd4",
   "metadata": {},
   "source": [
    "### 파일을 읽는 여러 가지 방법"
   ]
  },
  {
   "cell_type": "markdown",
   "id": "3db296e8",
   "metadata": {},
   "source": [
    "### readline 함수"
   ]
  },
  {
   "cell_type": "code",
   "execution_count": 76,
   "id": "5c640bf2",
   "metadata": {},
   "outputs": [
    {
     "name": "stdout",
     "output_type": "stream",
     "text": [
      "1번째 줄입니다.\n",
      "\n"
     ]
    }
   ],
   "source": [
    "f = open(\"새파일.txt\", 'r')\n",
    "line = f.readline()\n",
    "print(line)\n",
    "f.close()"
   ]
  },
  {
   "cell_type": "code",
   "execution_count": 77,
   "id": "5390acd8",
   "metadata": {},
   "outputs": [
    {
     "name": "stdout",
     "output_type": "stream",
     "text": [
      "1번째 줄입니다.\n",
      "\n",
      "2번째 줄입니다.\n",
      "\n",
      "3번째 줄입니다.\n",
      "\n",
      "4번째 줄입니다.\n",
      "\n",
      "5번째 줄입니다.\n",
      "\n",
      "6번째 줄입니다.\n",
      "\n",
      "7번째 줄입니다.\n",
      "\n",
      "8번째 줄입니다.\n",
      "\n",
      "9번째 줄입니다.\n",
      "\n",
      "10번째 줄입니다.\n",
      "\n"
     ]
    }
   ],
   "source": [
    "f = open(\"새파일.txt\", 'r')\n",
    "\n",
    "while True:\n",
    "    line = f.readline()\n",
    "    if not line:\n",
    "        break\n",
    "    print(line)\n",
    "f.close()"
   ]
  },
  {
   "cell_type": "markdown",
   "id": "95cc4d3d",
   "metadata": {},
   "source": [
    "### readlines 함수 사용하기"
   ]
  },
  {
   "cell_type": "code",
   "execution_count": 78,
   "id": "f32ddf03",
   "metadata": {},
   "outputs": [
    {
     "name": "stdout",
     "output_type": "stream",
     "text": [
      "['1번째 줄입니다.\\n', '2번째 줄입니다.\\n', '3번째 줄입니다.\\n', '4번째 줄입니다.\\n', '5번째 줄입니다.\\n', '6번째 줄입니다.\\n', '7번째 줄입니다.\\n', '8번째 줄입니다.\\n', '9번째 줄입니다.\\n', '10번째 줄입니다.\\n']\n",
      "==========\n",
      "1번째 줄입니다.\n",
      "\n",
      "2번째 줄입니다.\n",
      "\n",
      "3번째 줄입니다.\n",
      "\n",
      "4번째 줄입니다.\n",
      "\n",
      "5번째 줄입니다.\n",
      "\n",
      "6번째 줄입니다.\n",
      "\n",
      "7번째 줄입니다.\n",
      "\n",
      "8번째 줄입니다.\n",
      "\n",
      "9번째 줄입니다.\n",
      "\n",
      "10번째 줄입니다.\n",
      "\n"
     ]
    }
   ],
   "source": [
    "f = open(\"새파일.txt\", 'r')\n",
    "lines = f.readlines()\n",
    "print(lines)\n",
    "print('=' * 10)\n",
    "\n",
    "for line in lines:\n",
    "    print(line)\n",
    "f.close()"
   ]
  },
  {
   "cell_type": "markdown",
   "id": "6dedfea3",
   "metadata": {},
   "source": [
    "### 줄바꿈 문자 제거"
   ]
  },
  {
   "cell_type": "code",
   "execution_count": 79,
   "id": "14af0486",
   "metadata": {},
   "outputs": [
    {
     "name": "stdout",
     "output_type": "stream",
     "text": [
      "1번째 줄입니다.\n",
      "2번째 줄입니다.\n",
      "3번째 줄입니다.\n",
      "4번째 줄입니다.\n",
      "5번째 줄입니다.\n",
      "6번째 줄입니다.\n",
      "7번째 줄입니다.\n",
      "8번째 줄입니다.\n",
      "9번째 줄입니다.\n",
      "10번째 줄입니다.\n"
     ]
    }
   ],
   "source": [
    "f = open(\"새파일.txt\", 'r')\n",
    "line = f.readlines()\n",
    "\n",
    "for line in lines:\n",
    "    line = line.strip() # 줄 끝의 \\n 제거\n",
    "    print(line)\n",
    "f.close()"
   ]
  },
  {
   "cell_type": "markdown",
   "id": "3913f915",
   "metadata": {},
   "source": [
    "### read 함수"
   ]
  },
  {
   "cell_type": "code",
   "execution_count": 81,
   "id": "24e09b9d",
   "metadata": {},
   "outputs": [
    {
     "name": "stdout",
     "output_type": "stream",
     "text": [
      "1번째 줄입니다.\n",
      "2번째 줄입니다.\n",
      "3번째 줄입니다.\n",
      "4번째 줄입니다.\n",
      "5번째 줄입니다.\n",
      "6번째 줄입니다.\n",
      "7번째 줄입니다.\n",
      "8번째 줄입니다.\n",
      "9번째 줄입니다.\n",
      "10번째 줄입니다.\n",
      "\n",
      "<class 'str'>\n"
     ]
    }
   ],
   "source": [
    "f = open(\"새파일.txt\", 'r')\n",
    "data = f.read()\n",
    "print(data)\n",
    "print(type(data))\n",
    "f.close()"
   ]
  },
  {
   "cell_type": "markdown",
   "id": "5f33d524",
   "metadata": {},
   "source": [
    "### 파일에 새로운 내용 추가하기"
   ]
  },
  {
   "cell_type": "code",
   "execution_count": 85,
   "id": "a5ff9f3e",
   "metadata": {},
   "outputs": [],
   "source": [
    "f = open(\"새파일.txt\", 'a') # add 모드\n",
    "\n",
    "for i in range(11, 20):\n",
    "    data = \"%d번째 줄입니다.\\n\" % i\n",
    "    f.write(data)\n",
    "f.close()"
   ]
  },
  {
   "cell_type": "markdown",
   "id": "35db520b",
   "metadata": {},
   "source": [
    "### with문과 함께 사용하기"
   ]
  },
  {
   "cell_type": "code",
   "execution_count": 86,
   "id": "35bad4f6",
   "metadata": {},
   "outputs": [],
   "source": [
    "with open(\"foo.txt\", 'w') as f:\n",
    "    f.write(\"Life is too short, you need python\")\n",
    "f.close()"
   ]
  }
 ],
 "metadata": {
  "kernelspec": {
   "display_name": "Python 3 (ipykernel)",
   "language": "python",
   "name": "python3"
  },
  "language_info": {
   "codemirror_mode": {
    "name": "ipython",
    "version": 3
   },
   "file_extension": ".py",
   "mimetype": "text/x-python",
   "name": "python",
   "nbconvert_exporter": "python",
   "pygments_lexer": "ipython3",
   "version": "3.11.5"
  }
 },
 "nbformat": 4,
 "nbformat_minor": 5
}
