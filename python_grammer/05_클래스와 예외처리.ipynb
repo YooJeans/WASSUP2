{
 "cells": [
  {
   "cell_type": "markdown",
   "id": "7b60b4a1",
   "metadata": {},
   "source": [
    "## 클래스"
   ]
  },
  {
   "cell_type": "markdown",
   "id": "fcff74e7",
   "metadata": {},
   "source": [
    "### 계산기 프로그램을 함수로 만들어보자"
   ]
  },
  {
   "cell_type": "code",
   "execution_count": 1,
   "id": "402402dd",
   "metadata": {},
   "outputs": [
    {
     "name": "stdout",
     "output_type": "stream",
     "text": [
      "3\n",
      "7\n"
     ]
    }
   ],
   "source": [
    "result = 0\n",
    "\n",
    "def add(num):\n",
    "    global result \n",
    "    result += num # 결과값 result에 입력값 num 더하기\n",
    "    return result # 결과값 return\n",
    "\n",
    "print(add(3))\n",
    "print(add(4))"
   ]
  },
  {
   "cell_type": "markdown",
   "id": "aed06ed7",
   "metadata": {},
   "source": [
    "### 만약 한 프로그램에서 2대의 계산기가 필요한 상황이라면?"
   ]
  },
  {
   "cell_type": "code",
   "execution_count": 4,
   "id": "30a763e2",
   "metadata": {},
   "outputs": [
    {
     "name": "stdout",
     "output_type": "stream",
     "text": [
      "3\n",
      "7\n",
      "3\n",
      "10\n"
     ]
    }
   ],
   "source": [
    "result1 = 0\n",
    "def add1(num): # 계산기1\n",
    "    global result1\n",
    "    result1 += num \n",
    "    return result1 \n",
    "\n",
    "result2 = 0\n",
    "def add2(num): # 계산기2\n",
    "    global result2 \n",
    "    result2 += num \n",
    "    return result2 \n",
    "\n",
    "print(add1(3))\n",
    "print(add1(4))\n",
    "print(add2(3))\n",
    "print(add2(7))"
   ]
  },
  {
   "cell_type": "code",
   "execution_count": 5,
   "id": "0bb87169",
   "metadata": {},
   "outputs": [
    {
     "name": "stdout",
     "output_type": "stream",
     "text": [
      "3\n",
      "7\n",
      "3\n",
      "10\n"
     ]
    }
   ],
   "source": [
    "class Calculator:\n",
    "    def __init__(self):\n",
    "        self.result = 0\n",
    "    \n",
    "    def add(self, num):\n",
    "        self.result += num\n",
    "        return self.result\n",
    "\n",
    "cal1 = Calculator()\n",
    "cal2 = Calculator()\n",
    "\n",
    "print(cal1.add(3))\n",
    "print(cal1.add(4))\n",
    "print(cal2.add(3))\n",
    "print(cal2.add(7))"
   ]
  },
  {
   "cell_type": "code",
   "execution_count": 6,
   "id": "db910a6d",
   "metadata": {},
   "outputs": [],
   "source": [
    "class Calculator:\n",
    "    def __init__(self):\n",
    "        self.result = 0\n",
    "    \n",
    "    def add(self, num):\n",
    "        self.result += num\n",
    "        return self.result\n",
    "    \n",
    "    def sub(self, num):\n",
    "        self.result -= num\n",
    "        return self.result"
   ]
  },
  {
   "cell_type": "markdown",
   "id": "64ea0fc1",
   "metadata": {},
   "source": [
    "### 클래스와 객체"
   ]
  },
  {
   "cell_type": "code",
   "execution_count": 7,
   "id": "97eae03f",
   "metadata": {},
   "outputs": [],
   "source": [
    "class Cookie:\n",
    "    pass"
   ]
  },
  {
   "cell_type": "code",
   "execution_count": 8,
   "id": "22e4070f",
   "metadata": {},
   "outputs": [
    {
     "data": {
      "text/plain": [
       "<__main__.Cookie at 0x1ddbcc7cad0>"
      ]
     },
     "execution_count": 8,
     "metadata": {},
     "output_type": "execute_result"
    }
   ],
   "source": [
    "a = Cookie() # 객체 생성\n",
    "a # 객체 주소 출력"
   ]
  },
  {
   "cell_type": "code",
   "execution_count": 9,
   "id": "02f3f9e8",
   "metadata": {},
   "outputs": [
    {
     "data": {
      "text/plain": [
       "('python', str)"
      ]
     },
     "execution_count": 9,
     "metadata": {},
     "output_type": "execute_result"
    }
   ],
   "source": [
    "b = 'python'\n",
    "b, type(b)"
   ]
  },
  {
   "cell_type": "markdown",
   "id": "66f2e0ba",
   "metadata": {},
   "source": [
    "## 사칙 연산 클래스 만들기"
   ]
  },
  {
   "cell_type": "markdown",
   "id": "cba08fd5",
   "metadata": {},
   "source": [
    "### 클래스 구조 만들기"
   ]
  },
  {
   "cell_type": "code",
   "execution_count": 10,
   "id": "005c7346",
   "metadata": {},
   "outputs": [],
   "source": [
    "class FourCal: # 변수와 구분 위해 클래스의 첫 글자는 반드시 대문자여야 함\n",
    "    pass"
   ]
  },
  {
   "cell_type": "code",
   "execution_count": 11,
   "id": "a1c78fe8",
   "metadata": {},
   "outputs": [
    {
     "data": {
      "text/plain": [
       "(<__main__.FourCal at 0x1ddbcf2a350>, __main__.FourCal)"
      ]
     },
     "execution_count": 11,
     "metadata": {},
     "output_type": "execute_result"
    }
   ],
   "source": [
    "a = FourCal()\n",
    "a, type(a)"
   ]
  },
  {
   "cell_type": "code",
   "execution_count": 17,
   "id": "5ec25eba",
   "metadata": {},
   "outputs": [],
   "source": [
    "class FourCal:\n",
    "    def setdata(self, first, second):\n",
    "        self.first = first\n",
    "        self.second = second"
   ]
  },
  {
   "cell_type": "code",
   "execution_count": 18,
   "id": "682f756e",
   "metadata": {},
   "outputs": [],
   "source": [
    "a = FourCal()\n",
    "a.setdata(3, 4)"
   ]
  },
  {
   "cell_type": "code",
   "execution_count": 19,
   "id": "665c298f",
   "metadata": {},
   "outputs": [],
   "source": [
    "FourCal.setdata(a, 3, 4)"
   ]
  },
  {
   "cell_type": "code",
   "execution_count": 20,
   "id": "6686f03e",
   "metadata": {},
   "outputs": [
    {
     "data": {
      "text/plain": [
       "(3, 4)"
      ]
     },
     "execution_count": 20,
     "metadata": {},
     "output_type": "execute_result"
    }
   ],
   "source": [
    "a.first, a.second # 인스턴스(객체) 변수"
   ]
  },
  {
   "cell_type": "code",
   "execution_count": 21,
   "id": "6dd654c0",
   "metadata": {},
   "outputs": [],
   "source": [
    "a = FourCal()\n",
    "b = FourCal()"
   ]
  },
  {
   "cell_type": "code",
   "execution_count": 22,
   "id": "f1d2fd33",
   "metadata": {},
   "outputs": [
    {
     "data": {
      "text/plain": [
       "4"
      ]
     },
     "execution_count": 22,
     "metadata": {},
     "output_type": "execute_result"
    }
   ],
   "source": [
    "a.setdata(4, 2)\n",
    "a.first"
   ]
  },
  {
   "cell_type": "code",
   "execution_count": 23,
   "id": "757cf779",
   "metadata": {},
   "outputs": [
    {
     "data": {
      "text/plain": [
       "3"
      ]
     },
     "execution_count": 23,
     "metadata": {},
     "output_type": "execute_result"
    }
   ],
   "source": [
    "b.setdata(3, 7)\n",
    "b.first"
   ]
  },
  {
   "cell_type": "markdown",
   "id": "ead76245",
   "metadata": {},
   "source": [
    "### 더하기 기능 만들기"
   ]
  },
  {
   "cell_type": "code",
   "execution_count": 24,
   "id": "b45a8833",
   "metadata": {},
   "outputs": [],
   "source": [
    "class FourCal:\n",
    "    def setdata(self, first, second):\n",
    "        self.first = first\n",
    "        self.second = second\n",
    "    def add(self):\n",
    "        result = self.first + self.second\n",
    "        return result"
   ]
  },
  {
   "cell_type": "code",
   "execution_count": 25,
   "id": "120efa7b",
   "metadata": {},
   "outputs": [],
   "source": [
    "a = FourCal()\n",
    "a.setdata(4, 2)"
   ]
  },
  {
   "cell_type": "code",
   "execution_count": 26,
   "id": "9b48be03",
   "metadata": {},
   "outputs": [
    {
     "data": {
      "text/plain": [
       "6"
      ]
     },
     "execution_count": 26,
     "metadata": {},
     "output_type": "execute_result"
    }
   ],
   "source": [
    "a.add()"
   ]
  },
  {
   "cell_type": "code",
   "execution_count": 27,
   "id": "54aff941",
   "metadata": {},
   "outputs": [
    {
     "data": {
      "text/plain": [
       "6"
      ]
     },
     "execution_count": 27,
     "metadata": {},
     "output_type": "execute_result"
    }
   ],
   "source": [
    "c = a.add()\n",
    "c"
   ]
  },
  {
   "cell_type": "markdown",
   "id": "6db11556",
   "metadata": {},
   "source": [
    "### 곱하기, 빼기, 나누기 기능 만들기"
   ]
  },
  {
   "cell_type": "code",
   "execution_count": 28,
   "id": "a79fad9c",
   "metadata": {},
   "outputs": [],
   "source": [
    "class FourCal:\n",
    "    def setdata(self, first, second):\n",
    "        self.first = first\n",
    "        self.second = second\n",
    "    def add(self):\n",
    "        result = self.first + self.second\n",
    "        return result\n",
    "    def mul(self):\n",
    "        result = self.first * self.second\n",
    "        return result\n",
    "    def sub(self):\n",
    "        result = self.first - self.second\n",
    "        return result\n",
    "    def div(self):\n",
    "        result = self.first / self.second\n",
    "        return result"
   ]
  },
  {
   "cell_type": "code",
   "execution_count": 29,
   "id": "83330fdc",
   "metadata": {},
   "outputs": [
    {
     "name": "stdout",
     "output_type": "stream",
     "text": [
      "6 8 2 2.0\n",
      "11 24 -5 0.375\n"
     ]
    }
   ],
   "source": [
    "a = FourCal()\n",
    "b = FourCal()\n",
    "a.setdata(4, 2)\n",
    "b.setdata(3, 8)\n",
    "print(a.add(), a.mul(), a.sub(), a.div())\n",
    "print(b.add(), b.mul(), b.sub(), b.div())"
   ]
  },
  {
   "cell_type": "markdown",
   "id": "2e1c88f2",
   "metadata": {},
   "source": [
    "### 생성자"
   ]
  },
  {
   "cell_type": "code",
   "execution_count": 31,
   "id": "3b700962",
   "metadata": {},
   "outputs": [],
   "source": [
    "class FourCal:\n",
    "    def __init__(self, first, second): # 생성자(초기화) 필수\n",
    "        self.first = first\n",
    "        self.second = second\n",
    "        \n",
    "    def setdata(self, first, second):\n",
    "        self.first = first\n",
    "        self.second = second\n",
    "        \n",
    "    def add(self):\n",
    "        result = self.first + self.second\n",
    "        return result\n",
    "    \n",
    "    def mul(self):\n",
    "        result = self.first * self.second\n",
    "        return result\n",
    "    \n",
    "    def sub(self):\n",
    "        result = self.first - self.second\n",
    "        return result\n",
    "    \n",
    "    def div(self):\n",
    "        result = self.first / self.second\n",
    "        return result"
   ]
  },
  {
   "cell_type": "code",
   "execution_count": 32,
   "id": "bee44b8e",
   "metadata": {},
   "outputs": [],
   "source": [
    "a = FourCal(4, 2)\n",
    "# a.setdata(4, 2) 안 해도 됨 -> init이 있으니까!"
   ]
  },
  {
   "cell_type": "code",
   "execution_count": 33,
   "id": "b7d63fac",
   "metadata": {},
   "outputs": [
    {
     "data": {
      "text/plain": [
       "(4, 2)"
      ]
     },
     "execution_count": 33,
     "metadata": {},
     "output_type": "execute_result"
    }
   ],
   "source": [
    "a.first, a.second"
   ]
  },
  {
   "cell_type": "code",
   "execution_count": 34,
   "id": "acd08288",
   "metadata": {},
   "outputs": [
    {
     "data": {
      "text/plain": [
       "6"
      ]
     },
     "execution_count": 34,
     "metadata": {},
     "output_type": "execute_result"
    }
   ],
   "source": [
    "a.add()"
   ]
  },
  {
   "cell_type": "markdown",
   "id": "54340ac5",
   "metadata": {},
   "source": [
    "### 클래스의 상속"
   ]
  },
  {
   "cell_type": "code",
   "execution_count": 35,
   "id": "818878b8",
   "metadata": {},
   "outputs": [],
   "source": [
    "class MoreFourCal(FourCal):\n",
    "    pass"
   ]
  },
  {
   "cell_type": "code",
   "execution_count": 36,
   "id": "659e2061",
   "metadata": {},
   "outputs": [
    {
     "name": "stdout",
     "output_type": "stream",
     "text": [
      "6 8 2 2.0\n"
     ]
    }
   ],
   "source": [
    "a = MoreFourCal(4, 2)\n",
    "print(a.add(), a.mul(), a.sub(), a.div())"
   ]
  },
  {
   "cell_type": "code",
   "execution_count": 37,
   "id": "0bec2871",
   "metadata": {},
   "outputs": [],
   "source": [
    "class MoreFourCal(FourCal):\n",
    "    def pow(self):\n",
    "        result = self.first ** self.second\n",
    "        return result"
   ]
  },
  {
   "cell_type": "code",
   "execution_count": 39,
   "id": "ad716ab0",
   "metadata": {},
   "outputs": [
    {
     "data": {
      "text/plain": [
       "16"
      ]
     },
     "execution_count": 39,
     "metadata": {},
     "output_type": "execute_result"
    }
   ],
   "source": [
    "a = MoreFourCal(4, 2)\n",
    "a.pow()"
   ]
  },
  {
   "cell_type": "markdown",
   "id": "2d0e8cbf",
   "metadata": {},
   "source": [
    "### 메서드 오버라이딩"
   ]
  },
  {
   "cell_type": "code",
   "execution_count": 40,
   "id": "cf72a6f8",
   "metadata": {},
   "outputs": [],
   "source": [
    "# a = FourCal(4, 0)\n",
    "# a.div()\n",
    "# 에러코드, ZeroDivisionoError"
   ]
  },
  {
   "cell_type": "code",
   "execution_count": 41,
   "id": "837d3bcd",
   "metadata": {},
   "outputs": [],
   "source": [
    "class SafeFourCal(FourCal):\n",
    "    def div(self): # override\n",
    "        if self.second == 0:\n",
    "            return 0\n",
    "        else:\n",
    "            return self.first / self.second"
   ]
  },
  {
   "cell_type": "code",
   "execution_count": 42,
   "id": "d0c53aa3",
   "metadata": {},
   "outputs": [
    {
     "data": {
      "text/plain": [
       "0"
      ]
     },
     "execution_count": 42,
     "metadata": {},
     "output_type": "execute_result"
    }
   ],
   "source": [
    "a = SafeFourCal(4, 0)\n",
    "a.div()"
   ]
  },
  {
   "cell_type": "markdown",
   "id": "353e4b3d",
   "metadata": {},
   "source": [
    "### 클래스 변수"
   ]
  },
  {
   "cell_type": "code",
   "execution_count": 43,
   "id": "033e10db",
   "metadata": {},
   "outputs": [],
   "source": [
    "class Family:\n",
    "    lastname = \"김\""
   ]
  },
  {
   "cell_type": "code",
   "execution_count": 44,
   "id": "4838684d",
   "metadata": {},
   "outputs": [
    {
     "data": {
      "text/plain": [
       "'김'"
      ]
     },
     "execution_count": 44,
     "metadata": {},
     "output_type": "execute_result"
    }
   ],
   "source": [
    "Family.lastname"
   ]
  },
  {
   "cell_type": "code",
   "execution_count": 46,
   "id": "4b34e0a2",
   "metadata": {},
   "outputs": [
    {
     "data": {
      "text/plain": [
       "('김', '김')"
      ]
     },
     "execution_count": 46,
     "metadata": {},
     "output_type": "execute_result"
    }
   ],
   "source": [
    "a = Family()\n",
    "b = Family()\n",
    "a.lastname, b.lastname"
   ]
  },
  {
   "cell_type": "code",
   "execution_count": 47,
   "id": "829628b3",
   "metadata": {},
   "outputs": [
    {
     "data": {
      "text/plain": [
       "('박', '박')"
      ]
     },
     "execution_count": 47,
     "metadata": {},
     "output_type": "execute_result"
    }
   ],
   "source": [
    "Family.lastname = '박'\n",
    "a.lastname, b.lastname"
   ]
  },
  {
   "cell_type": "code",
   "execution_count": 49,
   "id": "3cbcf586",
   "metadata": {},
   "outputs": [
    {
     "data": {
      "text/plain": [
       "('최', '박', '박')"
      ]
     },
     "execution_count": 49,
     "metadata": {},
     "output_type": "execute_result"
    }
   ],
   "source": [
    "a.lastname = '최'\n",
    "a.lastname, b.lastname, Family.lastname"
   ]
  }
 ],
 "metadata": {
  "kernelspec": {
   "display_name": "Python 3 (ipykernel)",
   "language": "python",
   "name": "python3"
  },
  "language_info": {
   "codemirror_mode": {
    "name": "ipython",
    "version": 3
   },
   "file_extension": ".py",
   "mimetype": "text/x-python",
   "name": "python",
   "nbconvert_exporter": "python",
   "pygments_lexer": "ipython3",
   "version": "3.11.5"
  }
 },
 "nbformat": 4,
 "nbformat_minor": 5
}
